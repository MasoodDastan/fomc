{
 "cells": [
  {
   "cell_type": "code",
   "execution_count": 72,
   "id": "d7032087-8e54-4e62-971b-5a5c9d635b3f",
   "metadata": {},
   "outputs": [],
   "source": [
    "import requests\n",
    "import pandas as pd\n",
    "import numpy as np\n",
    "import time"
   ]
  },
  {
   "cell_type": "code",
   "execution_count": 73,
   "id": "4edc36f7-5648-42a0-83a1-af3deca76648",
   "metadata": {},
   "outputs": [],
   "source": [
    "from credentials import fred_api_key"
   ]
  },
  {
   "cell_type": "code",
   "execution_count": 74,
   "id": "a9e2f5d1-0815-46af-9c1d-0be7cacaacc6",
   "metadata": {},
   "outputs": [],
   "source": [
    "api_key = fred_api_key"
   ]
  },
  {
   "cell_type": "code",
   "execution_count": 75,
   "id": "e3adc759-951a-4718-8adb-bbc6db2e5ba2",
   "metadata": {},
   "outputs": [],
   "source": [
    "def fred(series_id, api_key, date_list):\n",
    "    \"\"\"\n",
    "    Retrieve economic data from the Federal Reserve Economic Data (FRED) API and return it as a DataFrame.\n",
    "\n",
    "    Parameters:\n",
    "        series_id (str): The unique identifier of the economic series on FRED.\n",
    "        api_key (str): Your personal API key to access FRED API. Get it from https://fred.stlouisfed.org/.\n",
    "        date_list (list): A list of tuples containing start and end dates for data retrieval. \n",
    "                          Each tuple should be in the format ('YYYY-MM-DD', 'YYYY-MM-DD').\n",
    "\n",
    "    Returns:\n",
    "        pandas.DataFrame: A DataFrame containing the retrieved economic data, indexed by date.\n",
    "\n",
    "    Raises:\n",
    "        ValueError: If the API response status code is not 200.\n",
    "    \"\"\"\n",
    "    \n",
    "    data_frames = []  # List to store individual DataFrames\n",
    "    for start_date, end_date in date_list:\n",
    "        params = {\n",
    "            'series_id': series_id,\n",
    "            'api_key': api_key,\n",
    "            'file_type': 'json',\n",
    "            'limit': 2000,\n",
    "            'observation_start': start_date,\n",
    "            'observation_end': end_date\n",
    "        }\n",
    "        \n",
    "        endpoint = 'https://api.stlouisfed.org/fred/series/observations'\n",
    "        response = requests.get(endpoint, params=params)\n",
    "\n",
    "        if response.status_code == 200:\n",
    "            data = response.json()\n",
    "            # Process the data as needed (you can uncomment the print statement for debugging)\n",
    "            # print(data)\n",
    "        else:\n",
    "            raise ValueError(f\"Error: {response.status_code} - {response.text}\")\n",
    "            \n",
    "        df = pd.DataFrame(data['observations'])\n",
    "        data_frames.append(df)\n",
    "        \n",
    "    if data_frames:\n",
    "        data = pd.concat(data_frames, axis=0, ignore_index=True)\n",
    "    else:\n",
    "        data = pd.DataFrame()\n",
    "        \n",
    "    data.drop(columns=['realtime_start', 'realtime_end'], inplace=True)\n",
    "    data['date'] = pd.to_datetime(data['date'])\n",
    "\n",
    "    data['value'] = pd.to_numeric(data['value'], errors='coerce')\n",
    "    data.set_index('date', inplace=True)\n",
    "    data.rename(columns={'value': f'{series_id}'}, inplace=True)\n",
    "\n",
    "    return data\n"
   ]
  },
  {
   "cell_type": "code",
   "execution_count": 76,
   "id": "14d04042-6a13-4d38-896c-8754793fd826",
   "metadata": {},
   "outputs": [],
   "source": [
    "# For many of the data series FRED has a daily limit of 2000 rows. Therefore, I split the data into ranges below so that\n",
    "# collect all the data from a series.\n",
    "date_list = [\n",
    "    ('1993-01-01', '1998-12-31'), ('1999-01-01', '2004-12-31'),\n",
    "    ('2005-01-01', '2010-12-31'), ('2011-01-01', '2016-12-31'),\n",
    "    ('2017-01-01', '2022-12-31'), ('2023-01-01', '2029-12-31'),\n",
    "] "
   ]
  },
  {
   "cell_type": "code",
   "execution_count": 77,
   "id": "bdcc5c25-7fd6-4c2a-9506-bef6ce5b380e",
   "metadata": {},
   "outputs": [
    {
     "name": "stdout",
     "output_type": "stream",
     "text": [
      "Execution time: 15.545575857162476 seconds\n"
     ]
    }
   ],
   "source": [
    "start_time = time.time()\n",
    "\n",
    "series_id_list = ['DFF', 'UNRATE', 'MEDCPIM158SFRBCLE', 'MRTSSM44X72USS', 'IRLTLT01USM156N', \n",
    "                  'T10Y3M', 'VIXCLS', 'DEXCHUS', 'DEXJPUS']\n",
    "variable_names = ['ffr', 'unemployment_rate', 'median_cpi', 'retail_sales', '10_year_treasury_yeild', \n",
    "                  '10year_3month_yield_spread', 'vix', 'us_china_exchange_rate', 'us_japan_exchange_rate']\n",
    "\n",
    "df_list = [fred(series_id, api_key, date_list) for series_id in series_id_list]\n",
    "\n",
    "economic_data = pd.concat(df_list, axis=1)\n",
    "economic_data.rename(columns={k:v for k,v in zip(series_id_list, variable_names)}, inplace=True)\n",
    "\n",
    "end_time = time.time()\n",
    "execution_time = end_time - start_time\n",
    "print(\"Execution time:\", execution_time, \"seconds\")"
   ]
  },
  {
   "cell_type": "code",
   "execution_count": 78,
   "id": "cee8484a-0604-495b-bb9d-5ff5de25288c",
   "metadata": {},
   "outputs": [
    {
     "data": {
      "text/html": [
       "<div>\n",
       "<style scoped>\n",
       "    .dataframe tbody tr th:only-of-type {\n",
       "        vertical-align: middle;\n",
       "    }\n",
       "\n",
       "    .dataframe tbody tr th {\n",
       "        vertical-align: top;\n",
       "    }\n",
       "\n",
       "    .dataframe thead th {\n",
       "        text-align: right;\n",
       "    }\n",
       "</style>\n",
       "<table border=\"1\" class=\"dataframe\">\n",
       "  <thead>\n",
       "    <tr style=\"text-align: right;\">\n",
       "      <th></th>\n",
       "      <th>ffr</th>\n",
       "      <th>unemployment_rate</th>\n",
       "      <th>median_cpi</th>\n",
       "      <th>retail_sales</th>\n",
       "      <th>10_year_treasury_yeild</th>\n",
       "      <th>10year_3month_yield_spread</th>\n",
       "      <th>vix</th>\n",
       "      <th>us_china_exchange_rate</th>\n",
       "      <th>us_japan_exchange_rate</th>\n",
       "    </tr>\n",
       "    <tr>\n",
       "      <th>date</th>\n",
       "      <th></th>\n",
       "      <th></th>\n",
       "      <th></th>\n",
       "      <th></th>\n",
       "      <th></th>\n",
       "      <th></th>\n",
       "      <th></th>\n",
       "      <th></th>\n",
       "      <th></th>\n",
       "    </tr>\n",
       "  </thead>\n",
       "  <tbody>\n",
       "    <tr>\n",
       "      <th>1993-01-01</th>\n",
       "      <td>2.66</td>\n",
       "      <td>7.3</td>\n",
       "      <td>3.442924</td>\n",
       "      <td>175108.0</td>\n",
       "      <td>6.6</td>\n",
       "      <td>NaN</td>\n",
       "      <td>NaN</td>\n",
       "      <td>NaN</td>\n",
       "      <td>NaN</td>\n",
       "    </tr>\n",
       "    <tr>\n",
       "      <th>1993-01-02</th>\n",
       "      <td>2.66</td>\n",
       "      <td>NaN</td>\n",
       "      <td>NaN</td>\n",
       "      <td>NaN</td>\n",
       "      <td>NaN</td>\n",
       "      <td>NaN</td>\n",
       "      <td>NaN</td>\n",
       "      <td>NaN</td>\n",
       "      <td>NaN</td>\n",
       "    </tr>\n",
       "    <tr>\n",
       "      <th>1993-01-03</th>\n",
       "      <td>2.66</td>\n",
       "      <td>NaN</td>\n",
       "      <td>NaN</td>\n",
       "      <td>NaN</td>\n",
       "      <td>NaN</td>\n",
       "      <td>NaN</td>\n",
       "      <td>NaN</td>\n",
       "      <td>NaN</td>\n",
       "      <td>NaN</td>\n",
       "    </tr>\n",
       "  </tbody>\n",
       "</table>\n",
       "</div>"
      ],
      "text/plain": [
       "             ffr  unemployment_rate  median_cpi  retail_sales  \\\n",
       "date                                                            \n",
       "1993-01-01  2.66                7.3    3.442924      175108.0   \n",
       "1993-01-02  2.66                NaN         NaN           NaN   \n",
       "1993-01-03  2.66                NaN         NaN           NaN   \n",
       "\n",
       "            10_year_treasury_yeild  10year_3month_yield_spread  vix  \\\n",
       "date                                                                  \n",
       "1993-01-01                     6.6                         NaN  NaN   \n",
       "1993-01-02                     NaN                         NaN  NaN   \n",
       "1993-01-03                     NaN                         NaN  NaN   \n",
       "\n",
       "            us_china_exchange_rate  us_japan_exchange_rate  \n",
       "date                                                        \n",
       "1993-01-01                     NaN                     NaN  \n",
       "1993-01-02                     NaN                     NaN  \n",
       "1993-01-03                     NaN                     NaN  "
      ]
     },
     "execution_count": 78,
     "metadata": {},
     "output_type": "execute_result"
    }
   ],
   "source": [
    "economic_data.head(3)"
   ]
  },
  {
   "cell_type": "code",
   "execution_count": 79,
   "id": "724f26a0-cda6-4612-9a4d-c633148d1677",
   "metadata": {},
   "outputs": [
    {
     "data": {
      "text/html": [
       "<div>\n",
       "<style scoped>\n",
       "    .dataframe tbody tr th:only-of-type {\n",
       "        vertical-align: middle;\n",
       "    }\n",
       "\n",
       "    .dataframe tbody tr th {\n",
       "        vertical-align: top;\n",
       "    }\n",
       "\n",
       "    .dataframe thead th {\n",
       "        text-align: right;\n",
       "    }\n",
       "</style>\n",
       "<table border=\"1\" class=\"dataframe\">\n",
       "  <thead>\n",
       "    <tr style=\"text-align: right;\">\n",
       "      <th></th>\n",
       "      <th>GDPC1</th>\n",
       "    </tr>\n",
       "    <tr>\n",
       "      <th>date</th>\n",
       "      <th></th>\n",
       "    </tr>\n",
       "  </thead>\n",
       "  <tbody>\n",
       "    <tr>\n",
       "      <th>1993-01-01</th>\n",
       "      <td>9857.185</td>\n",
       "    </tr>\n",
       "    <tr>\n",
       "      <th>1993-04-01</th>\n",
       "      <td>9914.565</td>\n",
       "    </tr>\n",
       "    <tr>\n",
       "      <th>1993-07-01</th>\n",
       "      <td>9961.873</td>\n",
       "    </tr>\n",
       "    <tr>\n",
       "      <th>1993-10-01</th>\n",
       "      <td>10097.362</td>\n",
       "    </tr>\n",
       "    <tr>\n",
       "      <th>1994-01-01</th>\n",
       "      <td>10195.338</td>\n",
       "    </tr>\n",
       "  </tbody>\n",
       "</table>\n",
       "</div>"
      ],
      "text/plain": [
       "                GDPC1\n",
       "date                 \n",
       "1993-01-01   9857.185\n",
       "1993-04-01   9914.565\n",
       "1993-07-01   9961.873\n",
       "1993-10-01  10097.362\n",
       "1994-01-01  10195.338"
      ]
     },
     "execution_count": 79,
     "metadata": {},
     "output_type": "execute_result"
    }
   ],
   "source": [
    "gdp = fred('GDPC1', api_key, date_list)\n",
    "gdp.head()"
   ]
  },
  {
   "cell_type": "code",
   "execution_count": 80,
   "id": "0b6ba9b5-7af4-412f-abd4-1d024a1e6c4a",
   "metadata": {},
   "outputs": [
    {
     "data": {
      "text/html": [
       "<div>\n",
       "<style scoped>\n",
       "    .dataframe tbody tr th:only-of-type {\n",
       "        vertical-align: middle;\n",
       "    }\n",
       "\n",
       "    .dataframe tbody tr th {\n",
       "        vertical-align: top;\n",
       "    }\n",
       "\n",
       "    .dataframe thead th {\n",
       "        text-align: right;\n",
       "    }\n",
       "</style>\n",
       "<table border=\"1\" class=\"dataframe\">\n",
       "  <thead>\n",
       "    <tr style=\"text-align: right;\">\n",
       "      <th></th>\n",
       "      <th>GDPC1</th>\n",
       "      <th>lag</th>\n",
       "      <th>growth</th>\n",
       "    </tr>\n",
       "    <tr>\n",
       "      <th>date</th>\n",
       "      <th></th>\n",
       "      <th></th>\n",
       "      <th></th>\n",
       "    </tr>\n",
       "  </thead>\n",
       "  <tbody>\n",
       "    <tr>\n",
       "      <th>1993-01-01</th>\n",
       "      <td>9857.185</td>\n",
       "      <td>NaN</td>\n",
       "      <td>NaN</td>\n",
       "    </tr>\n",
       "    <tr>\n",
       "      <th>1993-04-01</th>\n",
       "      <td>9914.565</td>\n",
       "      <td>9857.185</td>\n",
       "      <td>0.582113</td>\n",
       "    </tr>\n",
       "    <tr>\n",
       "      <th>1993-07-01</th>\n",
       "      <td>9961.873</td>\n",
       "      <td>9914.565</td>\n",
       "      <td>0.477157</td>\n",
       "    </tr>\n",
       "    <tr>\n",
       "      <th>1993-10-01</th>\n",
       "      <td>10097.362</td>\n",
       "      <td>9961.873</td>\n",
       "      <td>1.360076</td>\n",
       "    </tr>\n",
       "    <tr>\n",
       "      <th>1994-01-01</th>\n",
       "      <td>10195.338</td>\n",
       "      <td>10097.362</td>\n",
       "      <td>0.970313</td>\n",
       "    </tr>\n",
       "  </tbody>\n",
       "</table>\n",
       "</div>"
      ],
      "text/plain": [
       "                GDPC1        lag    growth\n",
       "date                                      \n",
       "1993-01-01   9857.185        NaN       NaN\n",
       "1993-04-01   9914.565   9857.185  0.582113\n",
       "1993-07-01   9961.873   9914.565  0.477157\n",
       "1993-10-01  10097.362   9961.873  1.360076\n",
       "1994-01-01  10195.338  10097.362  0.970313"
      ]
     },
     "execution_count": 80,
     "metadata": {},
     "output_type": "execute_result"
    }
   ],
   "source": [
    "gdp['lag'] = gdp['GDPC1'].shift()\n",
    "gdp['growth'] = (gdp['GDPC1'] - gdp['lag'])/gdp['lag']*100\n",
    "gdp.head()"
   ]
  },
  {
   "cell_type": "code",
   "execution_count": 81,
   "id": "0b584892-7a74-4636-87bc-73f5bc32a847",
   "metadata": {},
   "outputs": [
    {
     "data": {
      "text/plain": [
       "<Axes: xlabel='date'>"
      ]
     },
     "execution_count": 81,
     "metadata": {},
     "output_type": "execute_result"
    },
    {
     "data": {
      "image/png": "[encoded data removed]",
      "text/plain": [
       "<Figure size 640x480 with 1 Axes>"
      ]
     },
     "metadata": {},
     "output_type": "display_data"
    }
   ],
   "source": [
    "gdp['growth'].plot()"
   ]
  },
  {
   "cell_type": "code",
   "execution_count": 82,
   "id": "f75a767f-4cc2-4df4-ac6b-e0afbfbe5cd5",
   "metadata": {},
   "outputs": [
    {
     "data": {
      "text/html": [
       "<div>\n",
       "<style scoped>\n",
       "    .dataframe tbody tr th:only-of-type {\n",
       "        vertical-align: middle;\n",
       "    }\n",
       "\n",
       "    .dataframe tbody tr th {\n",
       "        vertical-align: top;\n",
       "    }\n",
       "\n",
       "    .dataframe thead th {\n",
       "        text-align: right;\n",
       "    }\n",
       "</style>\n",
       "<table border=\"1\" class=\"dataframe\">\n",
       "  <thead>\n",
       "    <tr style=\"text-align: right;\">\n",
       "      <th></th>\n",
       "      <th>CPIAUCSL</th>\n",
       "      <th>lag</th>\n",
       "      <th>inflation</th>\n",
       "    </tr>\n",
       "    <tr>\n",
       "      <th>date</th>\n",
       "      <th></th>\n",
       "      <th></th>\n",
       "      <th></th>\n",
       "    </tr>\n",
       "  </thead>\n",
       "  <tbody>\n",
       "    <tr>\n",
       "      <th>1993-01-01</th>\n",
       "      <td>142.8</td>\n",
       "      <td>NaN</td>\n",
       "      <td>NaN</td>\n",
       "    </tr>\n",
       "    <tr>\n",
       "      <th>1993-02-01</th>\n",
       "      <td>143.1</td>\n",
       "      <td>142.8</td>\n",
       "      <td>0.210084</td>\n",
       "    </tr>\n",
       "    <tr>\n",
       "      <th>1993-03-01</th>\n",
       "      <td>143.3</td>\n",
       "      <td>143.1</td>\n",
       "      <td>0.139762</td>\n",
       "    </tr>\n",
       "    <tr>\n",
       "      <th>1993-04-01</th>\n",
       "      <td>143.8</td>\n",
       "      <td>143.3</td>\n",
       "      <td>0.348918</td>\n",
       "    </tr>\n",
       "    <tr>\n",
       "      <th>1993-05-01</th>\n",
       "      <td>144.2</td>\n",
       "      <td>143.8</td>\n",
       "      <td>0.278164</td>\n",
       "    </tr>\n",
       "  </tbody>\n",
       "</table>\n",
       "</div>"
      ],
      "text/plain": [
       "            CPIAUCSL    lag  inflation\n",
       "date                                  \n",
       "1993-01-01     142.8    NaN        NaN\n",
       "1993-02-01     143.1  142.8   0.210084\n",
       "1993-03-01     143.3  143.1   0.139762\n",
       "1993-04-01     143.8  143.3   0.348918\n",
       "1993-05-01     144.2  143.8   0.278164"
      ]
     },
     "execution_count": 82,
     "metadata": {},
     "output_type": "execute_result"
    }
   ],
   "source": [
    "cpi = fred('CPIAUCSL', api_key, date_list)\n",
    "cpi['lag'] = cpi['CPIAUCSL'].shift()\n",
    "cpi['inflation'] = (cpi['CPIAUCSL'] - cpi['lag'])/cpi['lag']*100\n",
    "\n",
    "cpi.head()"
   ]
  },
  {
   "cell_type": "code",
   "execution_count": 83,
   "id": "74add822-1ef4-477b-b90e-1162912a6f3d",
   "metadata": {},
   "outputs": [
    {
     "data": {
      "text/plain": [
       "<Axes: xlabel='date'>"
      ]
     },
     "execution_count": 83,
     "metadata": {},
     "output_type": "execute_result"
    },
    {
     "data": {
      "image/png": "[encoded data removed]",
      "text/plain": [
       "<Figure size 640x480 with 1 Axes>"
      ]
     },
     "metadata": {},
     "output_type": "display_data"
    }
   ],
   "source": [
    "cpi['inflation'].plot()"
   ]
  },
  {
   "cell_type": "code",
   "execution_count": 84,
   "id": "59a2409f-4a00-4948-a81d-981d363de5bc",
   "metadata": {},
   "outputs": [],
   "source": [
    "economic_data = pd.concat([economic_data, cpi['inflation'], gdp['growth']], axis=1)"
   ]
  },
  {
   "cell_type": "code",
   "execution_count": 85,
   "id": "e45c1197-44b9-445e-8c6f-66065fec8a5e",
   "metadata": {},
   "outputs": [],
   "source": [
    "economic_data.to_pickle('../data/fred.pkl')"
   ]
  }
 ],
 "metadata": {
  "kernelspec": {
   "display_name": "Python 3 (ipykernel)",
   "language": "python",
   "name": "python3"
  },
  "language_info": {
   "codemirror_mode": {
    "name": "ipython",
    "version": 3
   },
   "file_extension": ".py",
   "mimetype": "text/x-python",
   "name": "python",
   "nbconvert_exporter": "python",
   "pygments_lexer": "ipython3",
   "version": "3.10.9"
  }
 },
 "nbformat": 4,
 "nbformat_minor": 5
}

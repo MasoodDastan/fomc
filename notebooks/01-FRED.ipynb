{
 "cells": [
  {
   "cell_type": "code",
   "execution_count": 1,
   "id": "d7032087-8e54-4e62-971b-5a5c9d635b3f",
   "metadata": {},
   "outputs": [],
   "source": [
    "import requests\n",
    "import pandas as pd\n",
    "import numpy as np\n",
    "import time"
   ]
  },
  {
   "cell_type": "code",
   "execution_count": 2,
   "id": "4edc36f7-5648-42a0-83a1-af3deca76648",
   "metadata": {},
   "outputs": [],
   "source": [
    "from credentials import fred_api_key"
   ]
  },
  {
   "cell_type": "code",
   "execution_count": 3,
   "id": "a9e2f5d1-0815-46af-9c1d-0be7cacaacc6",
   "metadata": {},
   "outputs": [],
   "source": [
    "api_key = fred_api_key"
   ]
  },
  {
   "cell_type": "code",
   "execution_count": 4,
   "id": "e3adc759-951a-4718-8adb-bbc6db2e5ba2",
   "metadata": {},
   "outputs": [],
   "source": [
    "def fred(series_id, api_key, date_list):\n",
    "    \"\"\"\n",
    "    Retrieve economic data from the Federal Reserve Economic Data (FRED) API and return it as a DataFrame.\n",
    "\n",
    "    Parameters:\n",
    "        series_id (str): The unique identifier of the economic series on FRED.\n",
    "        api_key (str): Your personal API key to access FRED API. Get it from https://fred.stlouisfed.org/.\n",
    "        date_list (list): A list of tuples containing start and end dates for data retrieval. \n",
    "                          Each tuple should be in the format ('YYYY-MM-DD', 'YYYY-MM-DD').\n",
    "\n",
    "    Returns:\n",
    "        pandas.DataFrame: A DataFrame containing the retrieved economic data, indexed by date.\n",
    "\n",
    "    Raises:\n",
    "        ValueError: If the API response status code is not 200.\n",
    "    \"\"\"\n",
    "    \n",
    "    data_frames = []  # List to store individual DataFrames\n",
    "    for start_date, end_date in date_list:\n",
    "        params = {\n",
    "            'series_id': series_id,\n",
    "            'api_key': api_key,\n",
    "            'file_type': 'json',\n",
    "            'limit': 2000,\n",
    "            'observation_start': start_date,\n",
    "            'observation_end': end_date\n",
    "        }\n",
    "        \n",
    "        endpoint = 'https://api.stlouisfed.org/fred/series/observations'\n",
    "        response = requests.get(endpoint, params=params)\n",
    "\n",
    "        if response.status_code == 200:\n",
    "            data = response.json()\n",
    "            # Process the data as needed (you can uncomment the print statement for debugging)\n",
    "            # print(data)\n",
    "        else:\n",
    "            raise ValueError(f\"Error: {response.status_code} - {response.text}\")\n",
    "            \n",
    "        df = pd.DataFrame(data['observations'])\n",
    "        data_frames.append(df)\n",
    "        \n",
    "    if data_frames:\n",
    "        data = pd.concat(data_frames, axis=0, ignore_index=True)\n",
    "    else:\n",
    "        data = pd.DataFrame()\n",
    "        \n",
    "    data.drop(columns=['realtime_start', 'realtime_end'], inplace=True)\n",
    "    data['date'] = pd.to_datetime(data['date'])\n",
    "\n",
    "    data['value'] = pd.to_numeric(data['value'], errors='coerce')\n",
    "    data.set_index('date', inplace=True)\n",
    "    data.rename(columns={'value': f'{series_id}'}, inplace=True)\n",
    "\n",
    "    return data\n"
   ]
  },
  {
   "cell_type": "code",
   "execution_count": 5,
   "id": "14d04042-6a13-4d38-896c-8754793fd826",
   "metadata": {},
   "outputs": [],
   "source": [
    "# For many of the data series FRED has a daily limit of 2000 rows. Therefore, I split the data into ranges below so that\n",
    "# collect all the data from a series.\n",
    "date_list = [\n",
    "    ('1993-01-01', '1998-12-31'), ('1999-01-01', '2004-12-31'),\n",
    "    ('2005-01-01', '2010-12-31'), ('2011-01-01', '2016-12-31'),\n",
    "    ('2017-01-01', '2022-12-31'), ('2023-01-01', '2029-12-31'),\n",
    "] "
   ]
  },
  {
   "cell_type": "code",
   "execution_count": 6,
   "id": "bdcc5c25-7fd6-4c2a-9506-bef6ce5b380e",
   "metadata": {},
   "outputs": [
    {
     "name": "stdout",
     "output_type": "stream",
     "text": [
      "Execution time: 10.964179992675781 seconds\n"
     ]
    }
   ],
   "source": [
    "start_time = time.time()\n",
    "\n",
    "series_id_list = ['DFF', 'GDPC1', 'UNRATE', 'CORESTICKM159SFRBATL', 'MRTSSM44X72USS', 'IRLTLT01USM156N', 'T10Y3M']\n",
    "variable_names = ['ffr', 'real_gdp', 'unemployment_rate', 'sticky_cpi', 'retail_sales', '10_year_treasury_yeild', '10year_3month_yield_spread']\n",
    "\n",
    "df_list = [fred(series_id, api_key, date_list) for series_id in series_id_list]\n",
    "\n",
    "economic_data = pd.concat(df_list, axis=1)\n",
    "economic_data.rename(columns={k:v for k,v in zip(series_id_list, variable_names)}, inplace=True)\n",
    "\n",
    "end_time = time.time()\n",
    "execution_time = end_time - start_time\n",
    "print(\"Execution time:\", execution_time, \"seconds\")"
   ]
  },
  {
   "cell_type": "code",
   "execution_count": 7,
   "id": "cee8484a-0604-495b-bb9d-5ff5de25288c",
   "metadata": {},
   "outputs": [
    {
     "data": {
      "text/html": [
       "<div>\n",
       "<style scoped>\n",
       "    .dataframe tbody tr th:only-of-type {\n",
       "        vertical-align: middle;\n",
       "    }\n",
       "\n",
       "    .dataframe tbody tr th {\n",
       "        vertical-align: top;\n",
       "    }\n",
       "\n",
       "    .dataframe thead th {\n",
       "        text-align: right;\n",
       "    }\n",
       "</style>\n",
       "<table border=\"1\" class=\"dataframe\">\n",
       "  <thead>\n",
       "    <tr style=\"text-align: right;\">\n",
       "      <th></th>\n",
       "      <th>ffr</th>\n",
       "      <th>real_gdp</th>\n",
       "      <th>unemployment_rate</th>\n",
       "      <th>sticky_cpi</th>\n",
       "      <th>retail_sales</th>\n",
       "      <th>10_year_treasury_yeild</th>\n",
       "      <th>10year_3month_yield_spread</th>\n",
       "    </tr>\n",
       "    <tr>\n",
       "      <th>date</th>\n",
       "      <th></th>\n",
       "      <th></th>\n",
       "      <th></th>\n",
       "      <th></th>\n",
       "      <th></th>\n",
       "      <th></th>\n",
       "      <th></th>\n",
       "    </tr>\n",
       "  </thead>\n",
       "  <tbody>\n",
       "    <tr>\n",
       "      <th>1993-01-01</th>\n",
       "      <td>2.66</td>\n",
       "      <td>9857.185</td>\n",
       "      <td>7.3</td>\n",
       "      <td>3.547355</td>\n",
       "      <td>175108.0</td>\n",
       "      <td>6.6</td>\n",
       "      <td>NaN</td>\n",
       "    </tr>\n",
       "    <tr>\n",
       "      <th>1993-01-02</th>\n",
       "      <td>2.66</td>\n",
       "      <td>NaN</td>\n",
       "      <td>NaN</td>\n",
       "      <td>NaN</td>\n",
       "      <td>NaN</td>\n",
       "      <td>NaN</td>\n",
       "      <td>NaN</td>\n",
       "    </tr>\n",
       "    <tr>\n",
       "      <th>1993-01-03</th>\n",
       "      <td>2.66</td>\n",
       "      <td>NaN</td>\n",
       "      <td>NaN</td>\n",
       "      <td>NaN</td>\n",
       "      <td>NaN</td>\n",
       "      <td>NaN</td>\n",
       "      <td>NaN</td>\n",
       "    </tr>\n",
       "    <tr>\n",
       "      <th>1993-01-04</th>\n",
       "      <td>3.60</td>\n",
       "      <td>NaN</td>\n",
       "      <td>NaN</td>\n",
       "      <td>NaN</td>\n",
       "      <td>NaN</td>\n",
       "      <td>NaN</td>\n",
       "      <td>3.41</td>\n",
       "    </tr>\n",
       "    <tr>\n",
       "      <th>1993-01-05</th>\n",
       "      <td>3.33</td>\n",
       "      <td>NaN</td>\n",
       "      <td>NaN</td>\n",
       "      <td>NaN</td>\n",
       "      <td>NaN</td>\n",
       "      <td>NaN</td>\n",
       "      <td>3.43</td>\n",
       "    </tr>\n",
       "  </tbody>\n",
       "</table>\n",
       "</div>"
      ],
      "text/plain": [
       "             ffr  real_gdp  unemployment_rate  sticky_cpi  retail_sales  \\\n",
       "date                                                                      \n",
       "1993-01-01  2.66  9857.185                7.3    3.547355      175108.0   \n",
       "1993-01-02  2.66       NaN                NaN         NaN           NaN   \n",
       "1993-01-03  2.66       NaN                NaN         NaN           NaN   \n",
       "1993-01-04  3.60       NaN                NaN         NaN           NaN   \n",
       "1993-01-05  3.33       NaN                NaN         NaN           NaN   \n",
       "\n",
       "            10_year_treasury_yeild  10year_3month_yield_spread  \n",
       "date                                                            \n",
       "1993-01-01                     6.6                         NaN  \n",
       "1993-01-02                     NaN                         NaN  \n",
       "1993-01-03                     NaN                         NaN  \n",
       "1993-01-04                     NaN                        3.41  \n",
       "1993-01-05                     NaN                        3.43  "
      ]
     },
     "execution_count": 7,
     "metadata": {},
     "output_type": "execute_result"
    }
   ],
   "source": [
    "economic_data.head()"
   ]
  },
  {
   "cell_type": "code",
   "execution_count": 8,
   "id": "e45c1197-44b9-445e-8c6f-66065fec8a5e",
   "metadata": {},
   "outputs": [],
   "source": [
    "economic_data.to_pickle('../data/fred.pkl')"
   ]
  }
 ],
 "metadata": {
  "kernelspec": {
   "display_name": "Python 3 (ipykernel)",
   "language": "python",
   "name": "python3"
  },
  "language_info": {
   "codemirror_mode": {
    "name": "ipython",
    "version": 3
   },
   "file_extension": ".py",
   "mimetype": "text/x-python",
   "name": "python",
   "nbconvert_exporter": "python",
   "pygments_lexer": "ipython3",
   "version": "3.10.9"
  }
 },
 "nbformat": 4,
 "nbformat_minor": 5
}

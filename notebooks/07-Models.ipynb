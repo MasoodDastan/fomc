{
 "cells": [
  {
   "cell_type": "code",
   "execution_count": 25,
   "id": "0e31dac4-8af2-4522-94a9-a156bb526465",
   "metadata": {},
   "outputs": [],
   "source": [
    "import pandas as pd\n",
    "import numpy as np\n",
    "import matplotlib.pyplot as plt\n",
    "\n",
    "from sklearn.model_selection import train_test_split\n",
    "from sklearn.metrics import r2_score, mean_squared_error\n",
    "\n",
    "import statsmodels.api as sm\n",
    "from statsmodels.tsa.seasonal import seasonal_decompose\n",
    "from statsmodels.graphics.tsaplots import plot_acf, plot_pacf\n",
    "from statsmodels.tsa.stattools import adfuller\n",
    "from statsmodels.tsa.arima.model import ARIMA\n",
    "\n",
    "from sklearn.metrics import confusion_matrix, classification_report, ConfusionMatrixDisplay\n",
    "\n",
    "import numpy as np\n",
    "import pandas as pd\n",
    "import matplotlib.pyplot as plt\n",
    "\n",
    "from sklearn.preprocessing import StandardScaler, MinMaxScaler\n",
    "from sklearn.model_selection import train_test_split\n",
    "\n",
    "from tensorflow.keras.models import Sequential\n",
    "from tensorflow.keras.layers import Dense, Dropout, LSTM, GRU\n",
    "from tensorflow.keras.utils import timeseries_dataset_from_array\n",
    "from tensorflow.keras.callbacks import EarlyStopping\n",
    "\n",
    "from keras.preprocessing import sequence\n",
    "import tensorflow as tf\n",
    "from keras.models import Sequential\n",
    "from keras.layers import Dense\n",
    "from keras.layers import LSTM\n",
    "\n",
    "from keras.optimizers import Adam\n",
    "from keras.models import load_model\n",
    "from keras.callbacks import ModelCheckpoint"
   ]
  },
  {
   "cell_type": "code",
   "execution_count": 2,
   "id": "7a9586dc-8d36-4a65-b864-9cedc4767f0f",
   "metadata": {},
   "outputs": [],
   "source": [
    "pd.set_option('display.max_columns', 100)"
   ]
  },
  {
   "cell_type": "code",
   "execution_count": 3,
   "id": "f4a60a35-0cb8-49b7-a260-3d257bd123c1",
   "metadata": {},
   "outputs": [
    {
     "data": {
      "text/html": [
       "<div>\n",
       "<style scoped>\n",
       "    .dataframe tbody tr th:only-of-type {\n",
       "        vertical-align: middle;\n",
       "    }\n",
       "\n",
       "    .dataframe tbody tr th {\n",
       "        vertical-align: top;\n",
       "    }\n",
       "\n",
       "    .dataframe thead th {\n",
       "        text-align: right;\n",
       "    }\n",
       "</style>\n",
       "<table border=\"1\" class=\"dataframe\">\n",
       "  <thead>\n",
       "    <tr style=\"text-align: right;\">\n",
       "      <th></th>\n",
       "      <th>Adj Close</th>\n",
       "      <th>Volume</th>\n",
       "      <th>pct_change_adj_close</th>\n",
       "      <th>lag_pct_change_adj_close</th>\n",
       "      <th>lag_pct_change_volume</th>\n",
       "      <th>lag_ma5_pct_change_adj_close</th>\n",
       "      <th>topic 1</th>\n",
       "      <th>consumption</th>\n",
       "      <th>foreign_exchange_rate</th>\n",
       "      <th>inflation_x</th>\n",
       "      <th>financial_market</th>\n",
       "      <th>topic 6</th>\n",
       "      <th>sentiment_mc</th>\n",
       "      <th>sentiment_zstc</th>\n",
       "      <th>ffr</th>\n",
       "      <th>unemployment_rate</th>\n",
       "      <th>median_cpi</th>\n",
       "      <th>retail_sales</th>\n",
       "      <th>10_year_treasury_yeild</th>\n",
       "      <th>10year_3month_yield_spread</th>\n",
       "      <th>vix</th>\n",
       "      <th>us_china_exchange_rate</th>\n",
       "      <th>us_japan_exchange_rate</th>\n",
       "      <th>sahm</th>\n",
       "      <th>inflation_y</th>\n",
       "      <th>growth</th>\n",
       "      <th>Three_Component_Index</th>\n",
       "      <th>News_Based_Policy_Uncert_Index</th>\n",
       "      <th>price_increase</th>\n",
       "    </tr>\n",
       "    <tr>\n",
       "      <th>Date</th>\n",
       "      <th></th>\n",
       "      <th></th>\n",
       "      <th></th>\n",
       "      <th></th>\n",
       "      <th></th>\n",
       "      <th></th>\n",
       "      <th></th>\n",
       "      <th></th>\n",
       "      <th></th>\n",
       "      <th></th>\n",
       "      <th></th>\n",
       "      <th></th>\n",
       "      <th></th>\n",
       "      <th></th>\n",
       "      <th></th>\n",
       "      <th></th>\n",
       "      <th></th>\n",
       "      <th></th>\n",
       "      <th></th>\n",
       "      <th></th>\n",
       "      <th></th>\n",
       "      <th></th>\n",
       "      <th></th>\n",
       "      <th></th>\n",
       "      <th></th>\n",
       "      <th></th>\n",
       "      <th></th>\n",
       "      <th></th>\n",
       "      <th></th>\n",
       "    </tr>\n",
       "  </thead>\n",
       "  <tbody>\n",
       "    <tr>\n",
       "      <th>1993-04-01</th>\n",
       "      <td>450.299988</td>\n",
       "      <td>234530000</td>\n",
       "      <td>-0.303324</td>\n",
       "      <td>-0.066373</td>\n",
       "      <td>20.762144</td>\n",
       "      <td>0.161433</td>\n",
       "      <td>0.052435</td>\n",
       "      <td>0.33777</td>\n",
       "      <td>0.102628</td>\n",
       "      <td>0.422744</td>\n",
       "      <td>0.049573</td>\n",
       "      <td>0.034851</td>\n",
       "      <td>1.11151</td>\n",
       "      <td>0.402003</td>\n",
       "      <td>3.31</td>\n",
       "      <td>7.1</td>\n",
       "      <td>4.09652</td>\n",
       "      <td>176749.0</td>\n",
       "      <td>5.97</td>\n",
       "      <td>3.10</td>\n",
       "      <td>13.02</td>\n",
       "      <td>5.7333</td>\n",
       "      <td>114.1</td>\n",
       "      <td>-0.03</td>\n",
       "      <td>0.348918</td>\n",
       "      <td>0.582113</td>\n",
       "      <td>109.256836</td>\n",
       "      <td>89.651123</td>\n",
       "      <td>0</td>\n",
       "    </tr>\n",
       "    <tr>\n",
       "      <th>1993-04-02</th>\n",
       "      <td>441.390015</td>\n",
       "      <td>323330000</td>\n",
       "      <td>-1.978675</td>\n",
       "      <td>-0.303324</td>\n",
       "      <td>-15.996275</td>\n",
       "      <td>-0.024659</td>\n",
       "      <td>0.052435</td>\n",
       "      <td>0.33777</td>\n",
       "      <td>0.102628</td>\n",
       "      <td>0.422744</td>\n",
       "      <td>0.049573</td>\n",
       "      <td>0.034851</td>\n",
       "      <td>1.11151</td>\n",
       "      <td>0.402003</td>\n",
       "      <td>3.13</td>\n",
       "      <td>7.1</td>\n",
       "      <td>4.09652</td>\n",
       "      <td>176749.0</td>\n",
       "      <td>5.97</td>\n",
       "      <td>3.19</td>\n",
       "      <td>14.50</td>\n",
       "      <td>5.7333</td>\n",
       "      <td>114.2</td>\n",
       "      <td>-0.03</td>\n",
       "      <td>0.348918</td>\n",
       "      <td>0.582113</td>\n",
       "      <td>109.256836</td>\n",
       "      <td>89.651123</td>\n",
       "      <td>0</td>\n",
       "    </tr>\n",
       "    <tr>\n",
       "      <th>1993-04-05</th>\n",
       "      <td>442.290009</td>\n",
       "      <td>296080000</td>\n",
       "      <td>0.203900</td>\n",
       "      <td>-1.978675</td>\n",
       "      <td>37.862960</td>\n",
       "      <td>-0.282885</td>\n",
       "      <td>0.052435</td>\n",
       "      <td>0.33777</td>\n",
       "      <td>0.102628</td>\n",
       "      <td>0.422744</td>\n",
       "      <td>0.049573</td>\n",
       "      <td>0.034851</td>\n",
       "      <td>1.11151</td>\n",
       "      <td>0.402003</td>\n",
       "      <td>3.15</td>\n",
       "      <td>7.1</td>\n",
       "      <td>4.09652</td>\n",
       "      <td>176749.0</td>\n",
       "      <td>5.97</td>\n",
       "      <td>3.16</td>\n",
       "      <td>14.12</td>\n",
       "      <td>5.7333</td>\n",
       "      <td>113.6</td>\n",
       "      <td>-0.03</td>\n",
       "      <td>0.348918</td>\n",
       "      <td>0.582113</td>\n",
       "      <td>109.256836</td>\n",
       "      <td>89.651123</td>\n",
       "      <td>1</td>\n",
       "    </tr>\n",
       "    <tr>\n",
       "      <th>1993-04-06</th>\n",
       "      <td>441.160004</td>\n",
       "      <td>293680000</td>\n",
       "      <td>-0.255490</td>\n",
       "      <td>0.203900</td>\n",
       "      <td>-8.427922</td>\n",
       "      <td>-0.375652</td>\n",
       "      <td>0.052435</td>\n",
       "      <td>0.33777</td>\n",
       "      <td>0.102628</td>\n",
       "      <td>0.422744</td>\n",
       "      <td>0.049573</td>\n",
       "      <td>0.034851</td>\n",
       "      <td>1.11151</td>\n",
       "      <td>0.402003</td>\n",
       "      <td>2.97</td>\n",
       "      <td>7.1</td>\n",
       "      <td>4.09652</td>\n",
       "      <td>176749.0</td>\n",
       "      <td>5.97</td>\n",
       "      <td>3.10</td>\n",
       "      <td>14.24</td>\n",
       "      <td>5.7333</td>\n",
       "      <td>114.0</td>\n",
       "      <td>-0.03</td>\n",
       "      <td>0.348918</td>\n",
       "      <td>0.582113</td>\n",
       "      <td>109.256836</td>\n",
       "      <td>89.651123</td>\n",
       "      <td>0</td>\n",
       "    </tr>\n",
       "    <tr>\n",
       "      <th>1993-04-07</th>\n",
       "      <td>442.730011</td>\n",
       "      <td>300000000</td>\n",
       "      <td>0.355882</td>\n",
       "      <td>-0.255490</td>\n",
       "      <td>-0.810592</td>\n",
       "      <td>-0.479992</td>\n",
       "      <td>0.052435</td>\n",
       "      <td>0.33777</td>\n",
       "      <td>0.102628</td>\n",
       "      <td>0.422744</td>\n",
       "      <td>0.049573</td>\n",
       "      <td>0.034851</td>\n",
       "      <td>1.11151</td>\n",
       "      <td>0.402003</td>\n",
       "      <td>2.93</td>\n",
       "      <td>7.1</td>\n",
       "      <td>4.09652</td>\n",
       "      <td>176749.0</td>\n",
       "      <td>5.97</td>\n",
       "      <td>3.09</td>\n",
       "      <td>13.64</td>\n",
       "      <td>5.7333</td>\n",
       "      <td>113.7</td>\n",
       "      <td>-0.03</td>\n",
       "      <td>0.348918</td>\n",
       "      <td>0.582113</td>\n",
       "      <td>109.256836</td>\n",
       "      <td>89.651123</td>\n",
       "      <td>1</td>\n",
       "    </tr>\n",
       "  </tbody>\n",
       "</table>\n",
       "</div>"
      ],
      "text/plain": [
       "             Adj Close     Volume  pct_change_adj_close  \\\n",
       "Date                                                      \n",
       "1993-04-01  450.299988  234530000             -0.303324   \n",
       "1993-04-02  441.390015  323330000             -1.978675   \n",
       "1993-04-05  442.290009  296080000              0.203900   \n",
       "1993-04-06  441.160004  293680000             -0.255490   \n",
       "1993-04-07  442.730011  300000000              0.355882   \n",
       "\n",
       "            lag_pct_change_adj_close  lag_pct_change_volume  \\\n",
       "Date                                                          \n",
       "1993-04-01                 -0.066373              20.762144   \n",
       "1993-04-02                 -0.303324             -15.996275   \n",
       "1993-04-05                 -1.978675              37.862960   \n",
       "1993-04-06                  0.203900              -8.427922   \n",
       "1993-04-07                 -0.255490              -0.810592   \n",
       "\n",
       "            lag_ma5_pct_change_adj_close   topic 1  consumption  \\\n",
       "Date                                                              \n",
       "1993-04-01                      0.161433  0.052435      0.33777   \n",
       "1993-04-02                     -0.024659  0.052435      0.33777   \n",
       "1993-04-05                     -0.282885  0.052435      0.33777   \n",
       "1993-04-06                     -0.375652  0.052435      0.33777   \n",
       "1993-04-07                     -0.479992  0.052435      0.33777   \n",
       "\n",
       "            foreign_exchange_rate  inflation_x  financial_market   topic 6  \\\n",
       "Date                                                                         \n",
       "1993-04-01               0.102628     0.422744          0.049573  0.034851   \n",
       "1993-04-02               0.102628     0.422744          0.049573  0.034851   \n",
       "1993-04-05               0.102628     0.422744          0.049573  0.034851   \n",
       "1993-04-06               0.102628     0.422744          0.049573  0.034851   \n",
       "1993-04-07               0.102628     0.422744          0.049573  0.034851   \n",
       "\n",
       "            sentiment_mc  sentiment_zstc   ffr  unemployment_rate  median_cpi  \\\n",
       "Date                                                                            \n",
       "1993-04-01       1.11151        0.402003  3.31                7.1     4.09652   \n",
       "1993-04-02       1.11151        0.402003  3.13                7.1     4.09652   \n",
       "1993-04-05       1.11151        0.402003  3.15                7.1     4.09652   \n",
       "1993-04-06       1.11151        0.402003  2.97                7.1     4.09652   \n",
       "1993-04-07       1.11151        0.402003  2.93                7.1     4.09652   \n",
       "\n",
       "            retail_sales  10_year_treasury_yeild  10year_3month_yield_spread  \\\n",
       "Date                                                                           \n",
       "1993-04-01      176749.0                    5.97                        3.10   \n",
       "1993-04-02      176749.0                    5.97                        3.19   \n",
       "1993-04-05      176749.0                    5.97                        3.16   \n",
       "1993-04-06      176749.0                    5.97                        3.10   \n",
       "1993-04-07      176749.0                    5.97                        3.09   \n",
       "\n",
       "              vix  us_china_exchange_rate  us_japan_exchange_rate  sahm  \\\n",
       "Date                                                                      \n",
       "1993-04-01  13.02                  5.7333                   114.1 -0.03   \n",
       "1993-04-02  14.50                  5.7333                   114.2 -0.03   \n",
       "1993-04-05  14.12                  5.7333                   113.6 -0.03   \n",
       "1993-04-06  14.24                  5.7333                   114.0 -0.03   \n",
       "1993-04-07  13.64                  5.7333                   113.7 -0.03   \n",
       "\n",
       "            inflation_y    growth  Three_Component_Index  \\\n",
       "Date                                                       \n",
       "1993-04-01     0.348918  0.582113             109.256836   \n",
       "1993-04-02     0.348918  0.582113             109.256836   \n",
       "1993-04-05     0.348918  0.582113             109.256836   \n",
       "1993-04-06     0.348918  0.582113             109.256836   \n",
       "1993-04-07     0.348918  0.582113             109.256836   \n",
       "\n",
       "            News_Based_Policy_Uncert_Index  price_increase  \n",
       "Date                                                        \n",
       "1993-04-01                       89.651123               0  \n",
       "1993-04-02                       89.651123               0  \n",
       "1993-04-05                       89.651123               1  \n",
       "1993-04-06                       89.651123               0  \n",
       "1993-04-07                       89.651123               1  "
      ]
     },
     "execution_count": 3,
     "metadata": {},
     "output_type": "execute_result"
    }
   ],
   "source": [
    "data = pd.read_pickle('../data/full_data.pkl')\n",
    "data.head()"
   ]
  },
  {
   "cell_type": "markdown",
   "id": "87bd22a4-4ab3-47a0-8df3-77f67220e15d",
   "metadata": {},
   "source": [
    "### RNN:\n"
   ]
  },
  {
   "cell_type": "code",
   "execution_count": 5,
   "id": "0577b3ec-175b-47f7-8a1c-a413138b54e9",
   "metadata": {},
   "outputs": [
    {
     "data": {
      "text/html": [
       "<div>\n",
       "<style scoped>\n",
       "    .dataframe tbody tr th:only-of-type {\n",
       "        vertical-align: middle;\n",
       "    }\n",
       "\n",
       "    .dataframe tbody tr th {\n",
       "        vertical-align: top;\n",
       "    }\n",
       "\n",
       "    .dataframe thead th {\n",
       "        text-align: right;\n",
       "    }\n",
       "</style>\n",
       "<table border=\"1\" class=\"dataframe\">\n",
       "  <thead>\n",
       "    <tr style=\"text-align: right;\">\n",
       "      <th></th>\n",
       "      <th>Adj Close</th>\n",
       "      <th>Volume</th>\n",
       "      <th>pct_change_adj_close</th>\n",
       "      <th>lag_pct_change_adj_close</th>\n",
       "      <th>lag_pct_change_volume</th>\n",
       "      <th>lag_ma5_pct_change_adj_close</th>\n",
       "      <th>topic 1</th>\n",
       "      <th>consumption</th>\n",
       "      <th>foreign_exchange_rate</th>\n",
       "      <th>inflation_x</th>\n",
       "      <th>financial_market</th>\n",
       "      <th>topic 6</th>\n",
       "      <th>sentiment_mc</th>\n",
       "      <th>sentiment_zstc</th>\n",
       "      <th>ffr</th>\n",
       "      <th>unemployment_rate</th>\n",
       "      <th>median_cpi</th>\n",
       "      <th>retail_sales</th>\n",
       "      <th>10_year_treasury_yeild</th>\n",
       "      <th>10year_3month_yield_spread</th>\n",
       "      <th>vix</th>\n",
       "      <th>us_china_exchange_rate</th>\n",
       "      <th>us_japan_exchange_rate</th>\n",
       "      <th>sahm</th>\n",
       "      <th>inflation_y</th>\n",
       "      <th>growth</th>\n",
       "      <th>Three_Component_Index</th>\n",
       "      <th>News_Based_Policy_Uncert_Index</th>\n",
       "      <th>price_increase</th>\n",
       "    </tr>\n",
       "    <tr>\n",
       "      <th>Date</th>\n",
       "      <th></th>\n",
       "      <th></th>\n",
       "      <th></th>\n",
       "      <th></th>\n",
       "      <th></th>\n",
       "      <th></th>\n",
       "      <th></th>\n",
       "      <th></th>\n",
       "      <th></th>\n",
       "      <th></th>\n",
       "      <th></th>\n",
       "      <th></th>\n",
       "      <th></th>\n",
       "      <th></th>\n",
       "      <th></th>\n",
       "      <th></th>\n",
       "      <th></th>\n",
       "      <th></th>\n",
       "      <th></th>\n",
       "      <th></th>\n",
       "      <th></th>\n",
       "      <th></th>\n",
       "      <th></th>\n",
       "      <th></th>\n",
       "      <th></th>\n",
       "      <th></th>\n",
       "      <th></th>\n",
       "      <th></th>\n",
       "      <th></th>\n",
       "    </tr>\n",
       "  </thead>\n",
       "  <tbody>\n",
       "    <tr>\n",
       "      <th>1993-04-01</th>\n",
       "      <td>450.299988</td>\n",
       "      <td>234530000</td>\n",
       "      <td>-0.303324</td>\n",
       "      <td>-0.066373</td>\n",
       "      <td>20.762144</td>\n",
       "      <td>0.161433</td>\n",
       "      <td>0.052435</td>\n",
       "      <td>0.33777</td>\n",
       "      <td>0.102628</td>\n",
       "      <td>0.422744</td>\n",
       "      <td>0.049573</td>\n",
       "      <td>0.034851</td>\n",
       "      <td>1.11151</td>\n",
       "      <td>0.402003</td>\n",
       "      <td>3.31</td>\n",
       "      <td>7.1</td>\n",
       "      <td>4.09652</td>\n",
       "      <td>176749.0</td>\n",
       "      <td>5.97</td>\n",
       "      <td>3.10</td>\n",
       "      <td>13.02</td>\n",
       "      <td>5.7333</td>\n",
       "      <td>114.1</td>\n",
       "      <td>-0.03</td>\n",
       "      <td>0.348918</td>\n",
       "      <td>0.582113</td>\n",
       "      <td>109.256836</td>\n",
       "      <td>89.651123</td>\n",
       "      <td>0</td>\n",
       "    </tr>\n",
       "    <tr>\n",
       "      <th>1993-04-02</th>\n",
       "      <td>441.390015</td>\n",
       "      <td>323330000</td>\n",
       "      <td>-1.978675</td>\n",
       "      <td>-0.303324</td>\n",
       "      <td>-15.996275</td>\n",
       "      <td>-0.024659</td>\n",
       "      <td>0.052435</td>\n",
       "      <td>0.33777</td>\n",
       "      <td>0.102628</td>\n",
       "      <td>0.422744</td>\n",
       "      <td>0.049573</td>\n",
       "      <td>0.034851</td>\n",
       "      <td>1.11151</td>\n",
       "      <td>0.402003</td>\n",
       "      <td>3.13</td>\n",
       "      <td>7.1</td>\n",
       "      <td>4.09652</td>\n",
       "      <td>176749.0</td>\n",
       "      <td>5.97</td>\n",
       "      <td>3.19</td>\n",
       "      <td>14.50</td>\n",
       "      <td>5.7333</td>\n",
       "      <td>114.2</td>\n",
       "      <td>-0.03</td>\n",
       "      <td>0.348918</td>\n",
       "      <td>0.582113</td>\n",
       "      <td>109.256836</td>\n",
       "      <td>89.651123</td>\n",
       "      <td>0</td>\n",
       "    </tr>\n",
       "    <tr>\n",
       "      <th>1993-04-05</th>\n",
       "      <td>442.290009</td>\n",
       "      <td>296080000</td>\n",
       "      <td>0.203900</td>\n",
       "      <td>-1.978675</td>\n",
       "      <td>37.862960</td>\n",
       "      <td>-0.282885</td>\n",
       "      <td>0.052435</td>\n",
       "      <td>0.33777</td>\n",
       "      <td>0.102628</td>\n",
       "      <td>0.422744</td>\n",
       "      <td>0.049573</td>\n",
       "      <td>0.034851</td>\n",
       "      <td>1.11151</td>\n",
       "      <td>0.402003</td>\n",
       "      <td>3.15</td>\n",
       "      <td>7.1</td>\n",
       "      <td>4.09652</td>\n",
       "      <td>176749.0</td>\n",
       "      <td>5.97</td>\n",
       "      <td>3.16</td>\n",
       "      <td>14.12</td>\n",
       "      <td>5.7333</td>\n",
       "      <td>113.6</td>\n",
       "      <td>-0.03</td>\n",
       "      <td>0.348918</td>\n",
       "      <td>0.582113</td>\n",
       "      <td>109.256836</td>\n",
       "      <td>89.651123</td>\n",
       "      <td>1</td>\n",
       "    </tr>\n",
       "    <tr>\n",
       "      <th>1993-04-06</th>\n",
       "      <td>441.160004</td>\n",
       "      <td>293680000</td>\n",
       "      <td>-0.255490</td>\n",
       "      <td>0.203900</td>\n",
       "      <td>-8.427922</td>\n",
       "      <td>-0.375652</td>\n",
       "      <td>0.052435</td>\n",
       "      <td>0.33777</td>\n",
       "      <td>0.102628</td>\n",
       "      <td>0.422744</td>\n",
       "      <td>0.049573</td>\n",
       "      <td>0.034851</td>\n",
       "      <td>1.11151</td>\n",
       "      <td>0.402003</td>\n",
       "      <td>2.97</td>\n",
       "      <td>7.1</td>\n",
       "      <td>4.09652</td>\n",
       "      <td>176749.0</td>\n",
       "      <td>5.97</td>\n",
       "      <td>3.10</td>\n",
       "      <td>14.24</td>\n",
       "      <td>5.7333</td>\n",
       "      <td>114.0</td>\n",
       "      <td>-0.03</td>\n",
       "      <td>0.348918</td>\n",
       "      <td>0.582113</td>\n",
       "      <td>109.256836</td>\n",
       "      <td>89.651123</td>\n",
       "      <td>0</td>\n",
       "    </tr>\n",
       "    <tr>\n",
       "      <th>1993-04-07</th>\n",
       "      <td>442.730011</td>\n",
       "      <td>300000000</td>\n",
       "      <td>0.355882</td>\n",
       "      <td>-0.255490</td>\n",
       "      <td>-0.810592</td>\n",
       "      <td>-0.479992</td>\n",
       "      <td>0.052435</td>\n",
       "      <td>0.33777</td>\n",
       "      <td>0.102628</td>\n",
       "      <td>0.422744</td>\n",
       "      <td>0.049573</td>\n",
       "      <td>0.034851</td>\n",
       "      <td>1.11151</td>\n",
       "      <td>0.402003</td>\n",
       "      <td>2.93</td>\n",
       "      <td>7.1</td>\n",
       "      <td>4.09652</td>\n",
       "      <td>176749.0</td>\n",
       "      <td>5.97</td>\n",
       "      <td>3.09</td>\n",
       "      <td>13.64</td>\n",
       "      <td>5.7333</td>\n",
       "      <td>113.7</td>\n",
       "      <td>-0.03</td>\n",
       "      <td>0.348918</td>\n",
       "      <td>0.582113</td>\n",
       "      <td>109.256836</td>\n",
       "      <td>89.651123</td>\n",
       "      <td>1</td>\n",
       "    </tr>\n",
       "  </tbody>\n",
       "</table>\n",
       "</div>"
      ],
      "text/plain": [
       "             Adj Close     Volume  pct_change_adj_close  \\\n",
       "Date                                                      \n",
       "1993-04-01  450.299988  234530000             -0.303324   \n",
       "1993-04-02  441.390015  323330000             -1.978675   \n",
       "1993-04-05  442.290009  296080000              0.203900   \n",
       "1993-04-06  441.160004  293680000             -0.255490   \n",
       "1993-04-07  442.730011  300000000              0.355882   \n",
       "\n",
       "            lag_pct_change_adj_close  lag_pct_change_volume  \\\n",
       "Date                                                          \n",
       "1993-04-01                 -0.066373              20.762144   \n",
       "1993-04-02                 -0.303324             -15.996275   \n",
       "1993-04-05                 -1.978675              37.862960   \n",
       "1993-04-06                  0.203900              -8.427922   \n",
       "1993-04-07                 -0.255490              -0.810592   \n",
       "\n",
       "            lag_ma5_pct_change_adj_close   topic 1  consumption  \\\n",
       "Date                                                              \n",
       "1993-04-01                      0.161433  0.052435      0.33777   \n",
       "1993-04-02                     -0.024659  0.052435      0.33777   \n",
       "1993-04-05                     -0.282885  0.052435      0.33777   \n",
       "1993-04-06                     -0.375652  0.052435      0.33777   \n",
       "1993-04-07                     -0.479992  0.052435      0.33777   \n",
       "\n",
       "            foreign_exchange_rate  inflation_x  financial_market   topic 6  \\\n",
       "Date                                                                         \n",
       "1993-04-01               0.102628     0.422744          0.049573  0.034851   \n",
       "1993-04-02               0.102628     0.422744          0.049573  0.034851   \n",
       "1993-04-05               0.102628     0.422744          0.049573  0.034851   \n",
       "1993-04-06               0.102628     0.422744          0.049573  0.034851   \n",
       "1993-04-07               0.102628     0.422744          0.049573  0.034851   \n",
       "\n",
       "            sentiment_mc  sentiment_zstc   ffr  unemployment_rate  median_cpi  \\\n",
       "Date                                                                            \n",
       "1993-04-01       1.11151        0.402003  3.31                7.1     4.09652   \n",
       "1993-04-02       1.11151        0.402003  3.13                7.1     4.09652   \n",
       "1993-04-05       1.11151        0.402003  3.15                7.1     4.09652   \n",
       "1993-04-06       1.11151        0.402003  2.97                7.1     4.09652   \n",
       "1993-04-07       1.11151        0.402003  2.93                7.1     4.09652   \n",
       "\n",
       "            retail_sales  10_year_treasury_yeild  10year_3month_yield_spread  \\\n",
       "Date                                                                           \n",
       "1993-04-01      176749.0                    5.97                        3.10   \n",
       "1993-04-02      176749.0                    5.97                        3.19   \n",
       "1993-04-05      176749.0                    5.97                        3.16   \n",
       "1993-04-06      176749.0                    5.97                        3.10   \n",
       "1993-04-07      176749.0                    5.97                        3.09   \n",
       "\n",
       "              vix  us_china_exchange_rate  us_japan_exchange_rate  sahm  \\\n",
       "Date                                                                      \n",
       "1993-04-01  13.02                  5.7333                   114.1 -0.03   \n",
       "1993-04-02  14.50                  5.7333                   114.2 -0.03   \n",
       "1993-04-05  14.12                  5.7333                   113.6 -0.03   \n",
       "1993-04-06  14.24                  5.7333                   114.0 -0.03   \n",
       "1993-04-07  13.64                  5.7333                   113.7 -0.03   \n",
       "\n",
       "            inflation_y    growth  Three_Component_Index  \\\n",
       "Date                                                       \n",
       "1993-04-01     0.348918  0.582113             109.256836   \n",
       "1993-04-02     0.348918  0.582113             109.256836   \n",
       "1993-04-05     0.348918  0.582113             109.256836   \n",
       "1993-04-06     0.348918  0.582113             109.256836   \n",
       "1993-04-07     0.348918  0.582113             109.256836   \n",
       "\n",
       "            News_Based_Policy_Uncert_Index  price_increase  \n",
       "Date                                                        \n",
       "1993-04-01                       89.651123               0  \n",
       "1993-04-02                       89.651123               0  \n",
       "1993-04-05                       89.651123               1  \n",
       "1993-04-06                       89.651123               0  \n",
       "1993-04-07                       89.651123               1  "
      ]
     },
     "execution_count": 5,
     "metadata": {},
     "output_type": "execute_result"
    }
   ],
   "source": [
    "data.head()"
   ]
  },
  {
   "cell_type": "code",
   "execution_count": 140,
   "id": "0dc1fd8e-a027-4475-8902-cf0a55ad1ca2",
   "metadata": {},
   "outputs": [],
   "source": [
    "train, test = train_test_split(\n",
    "    data.drop(columns=['Adj Close', 'pct_change_adj_close', 'Volume']), \n",
    "    shuffle=False, \n",
    "    test_size=0.1\n",
    ")"
   ]
  },
  {
   "cell_type": "code",
   "execution_count": 141,
   "id": "8bf2679a-71e0-4572-888d-2e249355c259",
   "metadata": {},
   "outputs": [],
   "source": [
    "mm = MinMaxScaler()\n",
    "training_set_scaled = mm.fit_transform(train)"
   ]
  },
  {
   "cell_type": "code",
   "execution_count": 142,
   "id": "09e5fb50-f7ca-4cc2-a4d3-033daff0b5b9",
   "metadata": {},
   "outputs": [
    {
     "data": {
      "text/plain": [
       "6870"
      ]
     },
     "execution_count": 142,
     "metadata": {},
     "output_type": "execute_result"
    }
   ],
   "source": [
    "len(training_set_scaled)"
   ]
  },
  {
   "cell_type": "code",
   "execution_count": null,
   "id": "81d99b39-ec47-4f1b-a28c-235d35b2d165",
   "metadata": {},
   "outputs": [],
   "source": [
    "# https://www.simplilearn.com/tutorials/deep-learning-tutorial/rnn"
   ]
  },
  {
   "cell_type": "code",
   "execution_count": 116,
   "id": "a4f043c9-a937-428b-a798-3e9846189d75",
   "metadata": {},
   "outputs": [],
   "source": [
    "def rnn_data_structure(data, timesteps = 10):\n",
    "    X = []\n",
    "    y = []\n",
    "    \n",
    "    for i in range(timesteps-1, len(data)):\n",
    "        X.append(data[i-timesteps+1:i+1, :-1])\n",
    "        y.append(data[i, -1])\n",
    "    X, y = np.array(X), np.array(y)\n",
    "    \n",
    "    return X, y"
   ]
  },
  {
   "cell_type": "code",
   "execution_count": 117,
   "id": "81eb93e2-7526-47cc-bcb3-62563e32616c",
   "metadata": {},
   "outputs": [],
   "source": [
    "X_train, y_train = rnn_data_structure(training_set_scaled)"
   ]
  },
  {
   "cell_type": "code",
   "execution_count": 118,
   "id": "4b602888-575c-4061-8da8-e5d1fc7d8dda",
   "metadata": {},
   "outputs": [],
   "source": [
    "test_set_scaled = mm.transform(test)\n",
    "X_test, y_test = rnn_data_structure(test_set_scaled)"
   ]
  },
  {
   "cell_type": "code",
   "execution_count": 119,
   "id": "4369e685-7628-4ecf-8ff0-5b2b62a417b5",
   "metadata": {},
   "outputs": [
    {
     "name": "stdout",
     "output_type": "stream",
     "text": [
      "(6811, 60, 26)\n",
      "(6811,)\n",
      "(705, 60, 26)\n",
      "(705,)\n"
     ]
    }
   ],
   "source": [
    "print(X_train.shape)\n",
    "print(y_train.shape)\n",
    "print(X_test.shape)\n",
    "print(y_test.shape)"
   ]
  },
  {
   "cell_type": "code",
   "execution_count": 120,
   "id": "63746804-50e4-4e17-8c1f-fc21fc7c3ecc",
   "metadata": {},
   "outputs": [],
   "source": [
    "model = Sequential()\n",
    "model.add(LSTM(128, return_sequences=True, input_shape=(60, 26)))\n",
    "model.add(LSTM(64, return_sequences=True))\n",
    "model.add(LSTM(64))\n",
    "model.add(Dense(32, activation='relu'))\n",
    "model.add(Dropout(0.5))\n",
    "model.add(Dense(1, activation='sigmoid'))"
   ]
  },
  {
   "cell_type": "code",
   "execution_count": 29,
   "id": "76bfd5ed-7f72-42b7-91e0-1f6068acaf87",
   "metadata": {},
   "outputs": [
    {
     "name": "stdout",
     "output_type": "stream",
     "text": [
      "Model: \"sequential_1\"\n",
      "_________________________________________________________________\n",
      " Layer (type)                Output Shape              Param #   \n",
      "=================================================================\n",
      " lstm_3 (LSTM)               (None, 10, 128)           79360     \n",
      "                                                                 \n",
      " lstm_4 (LSTM)               (None, 10, 64)            49408     \n",
      "                                                                 \n",
      " lstm_5 (LSTM)               (None, 64)                33024     \n",
      "                                                                 \n",
      " dense_2 (Dense)             (None, 32)                2080      \n",
      "                                                                 \n",
      " dropout_1 (Dropout)         (None, 32)                0         \n",
      "                                                                 \n",
      " dense_3 (Dense)             (None, 1)                 33        \n",
      "                                                                 \n",
      "=================================================================\n",
      "Total params: 163905 (640.25 KB)\n",
      "Trainable params: 163905 (640.25 KB)\n",
      "Non-trainable params: 0 (0.00 Byte)\n",
      "_________________________________________________________________\n"
     ]
    }
   ],
   "source": [
    "model.summary()"
   ]
  },
  {
   "cell_type": "code",
   "execution_count": 121,
   "id": "31fa0163-dbac-4437-a4ce-7efb016ad35a",
   "metadata": {},
   "outputs": [],
   "source": [
    "model.compile(loss='bce', optimizer='rmsprop', metrics=['acc'])\n",
    "es = EarlyStopping(monitor='val_loss', patience=10, restore_best_weights=True)"
   ]
  },
  {
   "cell_type": "code",
   "execution_count": 122,
   "id": "199c86a8-b0a7-41dc-9e8b-f1768a5f8b9e",
   "metadata": {},
   "outputs": [
    {
     "name": "stdout",
     "output_type": "stream",
     "text": [
      "Epoch 1/20\n",
      "107/107 [==============================] - 11s 93ms/step - loss: 0.6940 - acc: 0.5299 - val_loss: 0.6929 - val_acc: 0.5121\n",
      "Epoch 2/20\n",
      "107/107 [==============================] - 10s 90ms/step - loss: 0.6914 - acc: 0.5355 - val_loss: 0.6988 - val_acc: 0.5121\n",
      "Epoch 3/20\n",
      "107/107 [==============================] - 10s 93ms/step - loss: 0.6908 - acc: 0.5381 - val_loss: 0.6955 - val_acc: 0.5121\n",
      "Epoch 4/20\n",
      "107/107 [==============================] - 9s 89ms/step - loss: 0.6905 - acc: 0.5380 - val_loss: 0.6973 - val_acc: 0.5121\n",
      "Epoch 5/20\n",
      "107/107 [==============================] - 10s 93ms/step - loss: 0.6911 - acc: 0.5388 - val_loss: 0.6951 - val_acc: 0.5121\n",
      "Epoch 6/20\n",
      "107/107 [==============================] - 38s 358ms/step - loss: 0.6903 - acc: 0.5415 - val_loss: 0.6941 - val_acc: 0.5121\n",
      "Epoch 7/20\n",
      "107/107 [==============================] - 14s 134ms/step - loss: 0.6903 - acc: 0.5375 - val_loss: 0.6966 - val_acc: 0.5121\n",
      "Epoch 8/20\n",
      "107/107 [==============================] - 14s 125ms/step - loss: 0.6903 - acc: 0.5393 - val_loss: 0.6939 - val_acc: 0.5121\n",
      "Epoch 9/20\n",
      "107/107 [==============================] - 12s 114ms/step - loss: 0.6901 - acc: 0.5382 - val_loss: 0.6933 - val_acc: 0.5121\n",
      "Epoch 10/20\n",
      "107/107 [==============================] - 11s 99ms/step - loss: 0.6901 - acc: 0.5397 - val_loss: 0.6956 - val_acc: 0.5121\n",
      "Epoch 11/20\n",
      "107/107 [==============================] - 20s 191ms/step - loss: 0.6902 - acc: 0.5404 - val_loss: 0.7017 - val_acc: 0.5121\n"
     ]
    }
   ],
   "source": [
    "# Fit\n",
    "history = model.fit(\n",
    "    X_train,\n",
    "    y_train,\n",
    "    validation_data= (X_test, y_test),\n",
    "    epochs=20,\n",
    "    batch_size = 64,\n",
    "    callbacks = es\n",
    ")"
   ]
  },
  {
   "cell_type": "code",
   "execution_count": 123,
   "id": "219cb576-1397-420e-993d-e84f4c5078dd",
   "metadata": {},
   "outputs": [
    {
     "data": {
      "image/png": "[encoded data removed]",
      "text/plain": [
       "<Figure size 1400x500 with 1 Axes>"
      ]
     },
     "metadata": {},
     "output_type": "display_data"
    }
   ],
   "source": [
    "plt.figure(figsize=(14, 5))\n",
    "plt.plot(history.history['loss'], c='navy', label='Train')\n",
    "plt.plot(history.history['val_loss'], c='skyblue', label='Val')\n",
    "plt.legend();"
   ]
  },
  {
   "cell_type": "code",
   "execution_count": 124,
   "id": "fb638623-f000-4739-b2b8-88e46affc0ad",
   "metadata": {},
   "outputs": [
    {
     "name": "stdout",
     "output_type": "stream",
     "text": [
      "23/23 [==============================] - 1s 40ms/step - loss: 0.6929 - acc: 0.5121\n"
     ]
    },
    {
     "data": {
      "text/plain": [
       "[0.6929138898849487, 0.5120567083358765]"
      ]
     },
     "execution_count": 124,
     "metadata": {},
     "output_type": "execute_result"
    }
   ],
   "source": [
    "model.evaluate(X_test, y_test)"
   ]
  },
  {
   "cell_type": "code",
   "execution_count": 125,
   "id": "f5d9193f-68b4-4d76-834a-b4c7c875cb06",
   "metadata": {},
   "outputs": [
    {
     "name": "stdout",
     "output_type": "stream",
     "text": [
      "23/23 [==============================] - 1s 17ms/step\n"
     ]
    }
   ],
   "source": [
    "pred_test = model.predict(X_test)"
   ]
  },
  {
   "cell_type": "code",
   "execution_count": 126,
   "id": "8cce20f2-f7e9-40a5-8570-df25e0614afa",
   "metadata": {},
   "outputs": [
    {
     "data": {
      "text/plain": [
       "(705,)"
      ]
     },
     "execution_count": 126,
     "metadata": {},
     "output_type": "execute_result"
    }
   ],
   "source": [
    "pred_test = pred_test.reshape(-1)\n",
    "pred_test.shape"
   ]
  },
  {
   "cell_type": "code",
   "execution_count": 127,
   "id": "29dd4570-da4f-42b0-9194-8597858f2ee7",
   "metadata": {},
   "outputs": [
    {
     "name": "stdout",
     "output_type": "stream",
     "text": [
      "0.51679987\n",
      "0.5255402\n"
     ]
    }
   ],
   "source": [
    "print(pred_test.min())\n",
    "print(pred_test.max())"
   ]
  },
  {
   "cell_type": "code",
   "execution_count": 139,
   "id": "8cf3d3c5-a962-42fd-ac78-9b0e7c535624",
   "metadata": {},
   "outputs": [],
   "source": [
    "threshold = 0.52\n",
    "y_pred = np.where(pred_test >= threshold, 1, 0)"
   ]
  },
  {
   "cell_type": "code",
   "execution_count": 129,
   "id": "30567234-9f2d-45c0-9c1f-5bb57e83f7af",
   "metadata": {},
   "outputs": [
    {
     "name": "stdout",
     "output_type": "stream",
     "text": [
      "Confusion Matrix:\n",
      "[[135 209]\n",
      " [128 233]]\n"
     ]
    }
   ],
   "source": [
    "conf_matrix = confusion_matrix(y_test, y_pred)\n",
    "print(\"Confusion Matrix:\")\n",
    "print(conf_matrix)\n"
   ]
  },
  {
   "cell_type": "code",
   "execution_count": 138,
   "id": "83f2af5c-8929-4d3f-8659-afa531a8b767",
   "metadata": {},
   "outputs": [
    {
     "name": "stdout",
     "output_type": "stream",
     "text": [
      "              precision    recall  f1-score   support\n",
      "\n",
      "         0.0       0.50      0.67      0.58       344\n",
      "         1.0       0.54      0.37      0.44       361\n",
      "\n",
      "    accuracy                           0.52       705\n",
      "   macro avg       0.52      0.52      0.51       705\n",
      "weighted avg       0.52      0.52      0.51       705\n",
      "\n"
     ]
    },
    {
     "data": {
      "image/png": "[encoded data removed]",
      "text/plain": [
       "<Figure size 640x480 with 2 Axes>"
      ]
     },
     "metadata": {},
     "output_type": "display_data"
    }
   ],
   "source": [
    "print(classification_report(y_test, y_pred))\n",
    "ConfusionMatrixDisplay.from_predictions(y_test, y_pred, cmap='Blues');"
   ]
  },
  {
   "cell_type": "code",
   "execution_count": 115,
   "id": "4d886dd0-7940-4362-afa1-8d2621c14b54",
   "metadata": {},
   "outputs": [
    {
     "data": {
      "text/plain": [
       "0.5205298013245033"
      ]
     },
     "execution_count": 115,
     "metadata": {},
     "output_type": "execute_result"
    }
   ],
   "source": [
    "y_test.mean()"
   ]
  },
  {
   "cell_type": "markdown",
   "id": "2ae3d31d-fd02-4362-94c9-f5ce313cfd5c",
   "metadata": {},
   "source": [
    "### MAchine learning:"
   ]
  },
  {
   "cell_type": "code",
   "execution_count": 144,
   "id": "15ae7dc8-9197-4c5c-a815-f38cf6bc2202",
   "metadata": {},
   "outputs": [
    {
     "data": {
      "text/plain": [
       "Index(['Adj Close', 'Volume', 'pct_change_adj_close',\n",
       "       'lag_pct_change_adj_close', 'lag_pct_change_volume',\n",
       "       'lag_ma5_pct_change_adj_close', 'topic 1', 'consumption',\n",
       "       'foreign_exchange_rate', 'inflation_x', 'financial_market', 'topic 6',\n",
       "       'sentiment_mc', 'sentiment_zstc', 'ffr', 'unemployment_rate',\n",
       "       'median_cpi', 'retail_sales', '10_year_treasury_yeild',\n",
       "       '10year_3month_yield_spread', 'vix', 'us_china_exchange_rate',\n",
       "       'us_japan_exchange_rate', 'sahm', 'inflation_y', 'growth',\n",
       "       'Three_Component_Index', 'News_Based_Policy_Uncert_Index',\n",
       "       'price_increase'],\n",
       "      dtype='object')"
      ]
     },
     "execution_count": 144,
     "metadata": {},
     "output_type": "execute_result"
    }
   ],
   "source": [
    "data.columns"
   ]
  },
  {
   "cell_type": "code",
   "execution_count": 147,
   "id": "fc2ba133-3218-421f-a0c3-1c0de146cc72",
   "metadata": {},
   "outputs": [
    {
     "name": "stdout",
     "output_type": "stream",
     "text": [
      "(6870, 25) (764, 25)\n"
     ]
    }
   ],
   "source": [
    "X = data.drop(columns=['Adj Close', 'pct_change_adj_close', 'Volume', 'price_increase'])\n",
    "y = data['price_increase']\n",
    " \n",
    "X_train, X_test, y_train, y_test = train_test_split(\n",
    "    X, y, test_size=0.1, shuffle=False)\n",
    "\n",
    "sc = StandardScaler()\n",
    "X_train = sc.fit_transform(X_train)\n",
    "X_test = sc.transform(X_test)\n",
    "\n",
    "print(X_train.shape, X_test.shape)"
   ]
  },
  {
   "cell_type": "code",
   "execution_count": 150,
   "id": "2862f03f-df04-49d8-96f6-34679dc41c2b",
   "metadata": {},
   "outputs": [],
   "source": [
    "from sklearn.linear_model import LogisticRegression\n",
    "from sklearn.svm import SVC\n",
    "from xgboost import XGBClassifier\n",
    "\n"
   ]
  },
  {
   "cell_type": "code",
   "execution_count": 153,
   "id": "46c79c54-8fb9-4381-a7f9-44a700b0b859",
   "metadata": {},
   "outputs": [],
   "source": [
    "from sklearn import metrics"
   ]
  },
  {
   "cell_type": "code",
   "execution_count": 156,
   "id": "7cdc0493-2940-44a3-8807-397aab8763c2",
   "metadata": {},
   "outputs": [
    {
     "name": "stdout",
     "output_type": "stream",
     "text": [
      "LogisticRegression() : \n",
      "Training Accuracy :  0.6060193501773528\n",
      "Validation Accuracy :  0.6135681669928245\n",
      "\n",
      "SVC(kernel='poly', probability=True) : \n",
      "Training Accuracy :  0.6942961766991445\n",
      "Validation Accuracy :  0.5939403302777492\n",
      "\n",
      "XGBClassifier(base_score=None, booster=None, callbacks=None,\n",
      "              colsample_bylevel=None, colsample_bynode=None,\n",
      "              colsample_bytree=None, early_stopping_rounds=None,\n",
      "              enable_categorical=False, eval_metric=None, feature_types=None,\n",
      "              gamma=None, gpu_id=None, grow_policy=None, importance_type=None,\n",
      "              interaction_constraints=None, learning_rate=None, max_bin=None,\n",
      "              max_cat_threshold=None, max_cat_to_onehot=None,\n",
      "              max_delta_step=None, max_depth=None, max_leaves=None,\n",
      "              min_child_weight=None, missing=nan, monotone_constraints=None,\n",
      "              n_estimators=100, n_jobs=None, num_parallel_tree=None,\n",
      "              predictor=None, random_state=None, ...) : \n",
      "Training Accuracy :  0.9933937892766915\n",
      "Validation Accuracy :  0.6258591684691179\n",
      "\n"
     ]
    }
   ],
   "source": [
    "models = [LogisticRegression(), SVC(\n",
    "  kernel='poly', probability=True), XGBClassifier()]\n",
    " \n",
    "for i in range(3):\n",
    "    models[i].fit(X_train, y_train)\n",
    "    print(f'{models[i]} : ')\n",
    "    print('Training Accuracy : ', metrics.roc_auc_score(\n",
    "    y_train, models[i].predict_proba(X_train)[:,1]))\n",
    "    print('Validation Accuracy : ', metrics.roc_auc_score(\n",
    "    y_test, models[i].predict_proba(X_test)[:,1]))\n",
    "    print()"
   ]
  },
  {
   "cell_type": "code",
   "execution_count": 161,
   "id": "08506e17-f0cb-4c12-b671-f11c52a317e8",
   "metadata": {},
   "outputs": [
    {
     "data": {
      "image/png": "[encoded data removed]",
      "text/plain": [
       "<Figure size 640x480 with 2 Axes>"
      ]
     },
     "metadata": {},
     "output_type": "display_data"
    }
   ],
   "source": [
    "ConfusionMatrixDisplay.from_estimator(models[0], X_test, y_test, cmap='Blues')\n",
    "plt.show()"
   ]
  }
 ],
 "metadata": {
  "kernelspec": {
   "display_name": "Python 3 (ipykernel)",
   "language": "python",
   "name": "python3"
  },
  "language_info": {
   "codemirror_mode": {
    "name": "ipython",
    "version": 3
   },
   "file_extension": ".py",
   "mimetype": "text/x-python",
   "name": "python",
   "nbconvert_exporter": "python",
   "pygments_lexer": "ipython3",
   "version": "3.10.9"
  }
 },
 "nbformat": 4,
 "nbformat_minor": 5
}

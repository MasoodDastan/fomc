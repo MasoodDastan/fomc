{
 "cells": [
  {
   "cell_type": "markdown",
   "id": "405ea767-5245-4df0-80ae-4836f783f226",
   "metadata": {},
   "source": [
    "# Models\n",
    "This notebook generates all the models required to analyze the movement of the stock market."
   ]
  },
  {
   "cell_type": "code",
   "execution_count": 1,
   "id": "0e31dac4-8af2-4522-94a9-a156bb526465",
   "metadata": {},
   "outputs": [],
   "source": [
    "import pandas as pd\n",
    "import numpy as np\n",
    "import matplotlib.pyplot as plt\n",
    "import seaborn as sns\n",
    "\n",
    "from sklearn.metrics import confusion_matrix, classification_report, ConfusionMatrixDisplay, roc_auc_score,RocCurveDisplay\n",
    "from sklearn.model_selection import train_test_split, KFold, GridSearchCV, RandomizedSearchCV\n",
    "from sklearn.preprocessing import StandardScaler, MinMaxScaler\n",
    "from sklearn.pipeline import Pipeline\n",
    "from sklearn.linear_model import LogisticRegression\n",
    "from sklearn.svm import SVC\n",
    "from sklearn.ensemble import RandomForestClassifier, GradientBoostingClassifier\n",
    "\n",
    "from tensorflow.keras.models import Sequential\n",
    "from tensorflow.keras.layers import Dense, Dropout, LSTM, GRU\n",
    "from tensorflow.keras.callbacks import EarlyStopping\n"
   ]
  },
  {
   "cell_type": "code",
   "execution_count": 2,
   "id": "f03d4cbc-6fc7-428b-8139-6b4d20e105c4",
   "metadata": {},
   "outputs": [],
   "source": [
    "import warnings\n",
    "warnings.filterwarnings(\"ignore\")"
   ]
  },
  {
   "cell_type": "code",
   "execution_count": 3,
   "id": "7a9586dc-8d36-4a65-b864-9cedc4767f0f",
   "metadata": {},
   "outputs": [],
   "source": [
    "pd.set_option('display.max_columns', 100)"
   ]
  },
  {
   "cell_type": "code",
   "execution_count": 4,
   "id": "f4a60a35-0cb8-49b7-a260-3d257bd123c1",
   "metadata": {},
   "outputs": [
    {
     "data": {
      "text/html": [
       "<div>\n",
       "<style scoped>\n",
       "    .dataframe tbody tr th:only-of-type {\n",
       "        vertical-align: middle;\n",
       "    }\n",
       "\n",
       "    .dataframe tbody tr th {\n",
       "        vertical-align: top;\n",
       "    }\n",
       "\n",
       "    .dataframe thead th {\n",
       "        text-align: right;\n",
       "    }\n",
       "</style>\n",
       "<table border=\"1\" class=\"dataframe\">\n",
       "  <thead>\n",
       "    <tr style=\"text-align: right;\">\n",
       "      <th></th>\n",
       "      <th>Adj Close</th>\n",
       "      <th>Volume</th>\n",
       "      <th>pct_change_adj_close</th>\n",
       "      <th>lag_pct_change_adj_close</th>\n",
       "      <th>lag_pct_change_volume</th>\n",
       "      <th>lag_ma15_pct_change_adj_close</th>\n",
       "      <th>topic 1</th>\n",
       "      <th>consumption</th>\n",
       "      <th>foreign_exchange_rate</th>\n",
       "      <th>inflation</th>\n",
       "      <th>financial_market</th>\n",
       "      <th>topic 6</th>\n",
       "      <th>sentiment_mc</th>\n",
       "      <th>sentiment_zstc</th>\n",
       "      <th>ffr</th>\n",
       "      <th>unemployment_rate</th>\n",
       "      <th>median_cpi</th>\n",
       "      <th>retail_sales</th>\n",
       "      <th>10_year_treasury_yeild</th>\n",
       "      <th>10year_3month_yield_spread</th>\n",
       "      <th>vix</th>\n",
       "      <th>us_china_exchange_rate</th>\n",
       "      <th>us_japan_exchange_rate</th>\n",
       "      <th>sahm</th>\n",
       "      <th>cpi</th>\n",
       "      <th>inflation_mom</th>\n",
       "      <th>inflation_yoy</th>\n",
       "      <th>real_gdp</th>\n",
       "      <th>gdp_growth_qoq</th>\n",
       "      <th>gdp_growth_yoy</th>\n",
       "      <th>epu_all</th>\n",
       "      <th>epu_news</th>\n",
       "      <th>price_increase</th>\n",
       "    </tr>\n",
       "    <tr>\n",
       "      <th>Date</th>\n",
       "      <th></th>\n",
       "      <th></th>\n",
       "      <th></th>\n",
       "      <th></th>\n",
       "      <th></th>\n",
       "      <th></th>\n",
       "      <th></th>\n",
       "      <th></th>\n",
       "      <th></th>\n",
       "      <th></th>\n",
       "      <th></th>\n",
       "      <th></th>\n",
       "      <th></th>\n",
       "      <th></th>\n",
       "      <th></th>\n",
       "      <th></th>\n",
       "      <th></th>\n",
       "      <th></th>\n",
       "      <th></th>\n",
       "      <th></th>\n",
       "      <th></th>\n",
       "      <th></th>\n",
       "      <th></th>\n",
       "      <th></th>\n",
       "      <th></th>\n",
       "      <th></th>\n",
       "      <th></th>\n",
       "      <th></th>\n",
       "      <th></th>\n",
       "      <th></th>\n",
       "      <th></th>\n",
       "      <th></th>\n",
       "      <th></th>\n",
       "    </tr>\n",
       "  </thead>\n",
       "  <tbody>\n",
       "    <tr>\n",
       "      <th>1994-01-03</th>\n",
       "      <td>465.440002</td>\n",
       "      <td>270140000</td>\n",
       "      <td>-0.216531</td>\n",
       "      <td>-0.467310</td>\n",
       "      <td>-13.923210</td>\n",
       "      <td>0.033239</td>\n",
       "      <td>0.041367</td>\n",
       "      <td>0.35654</td>\n",
       "      <td>0.071715</td>\n",
       "      <td>0.404525</td>\n",
       "      <td>0.041951</td>\n",
       "      <td>0.083903</td>\n",
       "      <td>3.265306</td>\n",
       "      <td>0.692368</td>\n",
       "      <td>3.15</td>\n",
       "      <td>6.6</td>\n",
       "      <td>2.711772</td>\n",
       "      <td>185142.0</td>\n",
       "      <td>5.75</td>\n",
       "      <td>2.76</td>\n",
       "      <td>12.57</td>\n",
       "      <td>8.7217</td>\n",
       "      <td>112.50</td>\n",
       "      <td>-0.1</td>\n",
       "      <td>146.3</td>\n",
       "      <td>0.205479</td>\n",
       "      <td>2.45098</td>\n",
       "      <td>10195.338</td>\n",
       "      <td>0.970313</td>\n",
       "      <td>3.430523</td>\n",
       "      <td>80.009804</td>\n",
       "      <td>82.292801</td>\n",
       "      <td>0</td>\n",
       "    </tr>\n",
       "    <tr>\n",
       "      <th>1994-01-04</th>\n",
       "      <td>466.890015</td>\n",
       "      <td>326600000</td>\n",
       "      <td>0.311536</td>\n",
       "      <td>-0.216531</td>\n",
       "      <td>60.234889</td>\n",
       "      <td>0.022394</td>\n",
       "      <td>0.041367</td>\n",
       "      <td>0.35654</td>\n",
       "      <td>0.071715</td>\n",
       "      <td>0.404525</td>\n",
       "      <td>0.041951</td>\n",
       "      <td>0.083903</td>\n",
       "      <td>3.265306</td>\n",
       "      <td>0.692368</td>\n",
       "      <td>3.03</td>\n",
       "      <td>6.6</td>\n",
       "      <td>2.711772</td>\n",
       "      <td>185142.0</td>\n",
       "      <td>5.75</td>\n",
       "      <td>2.73</td>\n",
       "      <td>11.91</td>\n",
       "      <td>8.7217</td>\n",
       "      <td>112.75</td>\n",
       "      <td>-0.1</td>\n",
       "      <td>146.3</td>\n",
       "      <td>0.205479</td>\n",
       "      <td>2.45098</td>\n",
       "      <td>10195.338</td>\n",
       "      <td>0.970313</td>\n",
       "      <td>3.430523</td>\n",
       "      <td>80.009804</td>\n",
       "      <td>82.292801</td>\n",
       "      <td>1</td>\n",
       "    </tr>\n",
       "    <tr>\n",
       "      <th>1994-01-05</th>\n",
       "      <td>467.549988</td>\n",
       "      <td>400030000</td>\n",
       "      <td>0.141355</td>\n",
       "      <td>0.311536</td>\n",
       "      <td>20.900274</td>\n",
       "      <td>0.017728</td>\n",
       "      <td>0.041367</td>\n",
       "      <td>0.35654</td>\n",
       "      <td>0.071715</td>\n",
       "      <td>0.404525</td>\n",
       "      <td>0.041951</td>\n",
       "      <td>0.083903</td>\n",
       "      <td>3.265306</td>\n",
       "      <td>0.692368</td>\n",
       "      <td>3.46</td>\n",
       "      <td>6.6</td>\n",
       "      <td>2.711772</td>\n",
       "      <td>185142.0</td>\n",
       "      <td>5.75</td>\n",
       "      <td>2.76</td>\n",
       "      <td>10.94</td>\n",
       "      <td>8.7217</td>\n",
       "      <td>113.10</td>\n",
       "      <td>-0.1</td>\n",
       "      <td>146.3</td>\n",
       "      <td>0.205479</td>\n",
       "      <td>2.45098</td>\n",
       "      <td>10195.338</td>\n",
       "      <td>0.970313</td>\n",
       "      <td>3.430523</td>\n",
       "      <td>80.009804</td>\n",
       "      <td>82.292801</td>\n",
       "      <td>1</td>\n",
       "    </tr>\n",
       "    <tr>\n",
       "      <th>1994-01-06</th>\n",
       "      <td>467.119995</td>\n",
       "      <td>365960000</td>\n",
       "      <td>-0.091967</td>\n",
       "      <td>0.141355</td>\n",
       "      <td>22.483160</td>\n",
       "      <td>0.064944</td>\n",
       "      <td>0.041367</td>\n",
       "      <td>0.35654</td>\n",
       "      <td>0.071715</td>\n",
       "      <td>0.404525</td>\n",
       "      <td>0.041951</td>\n",
       "      <td>0.083903</td>\n",
       "      <td>3.265306</td>\n",
       "      <td>0.692368</td>\n",
       "      <td>3.08</td>\n",
       "      <td>6.6</td>\n",
       "      <td>2.711772</td>\n",
       "      <td>185142.0</td>\n",
       "      <td>5.75</td>\n",
       "      <td>2.72</td>\n",
       "      <td>11.27</td>\n",
       "      <td>8.7217</td>\n",
       "      <td>112.75</td>\n",
       "      <td>-0.1</td>\n",
       "      <td>146.3</td>\n",
       "      <td>0.205479</td>\n",
       "      <td>2.45098</td>\n",
       "      <td>10195.338</td>\n",
       "      <td>0.970313</td>\n",
       "      <td>3.430523</td>\n",
       "      <td>80.009804</td>\n",
       "      <td>82.292801</td>\n",
       "      <td>0</td>\n",
       "    </tr>\n",
       "    <tr>\n",
       "      <th>1994-01-07</th>\n",
       "      <td>469.899994</td>\n",
       "      <td>324920000</td>\n",
       "      <td>0.595136</td>\n",
       "      <td>-0.091967</td>\n",
       "      <td>-8.516861</td>\n",
       "      <td>0.076377</td>\n",
       "      <td>0.041367</td>\n",
       "      <td>0.35654</td>\n",
       "      <td>0.071715</td>\n",
       "      <td>0.404525</td>\n",
       "      <td>0.041951</td>\n",
       "      <td>0.083903</td>\n",
       "      <td>3.265306</td>\n",
       "      <td>0.692368</td>\n",
       "      <td>2.96</td>\n",
       "      <td>6.6</td>\n",
       "      <td>2.711772</td>\n",
       "      <td>185142.0</td>\n",
       "      <td>5.75</td>\n",
       "      <td>2.63</td>\n",
       "      <td>10.96</td>\n",
       "      <td>8.7117</td>\n",
       "      <td>111.97</td>\n",
       "      <td>-0.1</td>\n",
       "      <td>146.3</td>\n",
       "      <td>0.205479</td>\n",
       "      <td>2.45098</td>\n",
       "      <td>10195.338</td>\n",
       "      <td>0.970313</td>\n",
       "      <td>3.430523</td>\n",
       "      <td>80.009804</td>\n",
       "      <td>82.292801</td>\n",
       "      <td>1</td>\n",
       "    </tr>\n",
       "  </tbody>\n",
       "</table>\n",
       "</div>"
      ],
      "text/plain": [
       "             Adj Close     Volume  pct_change_adj_close  \\\n",
       "Date                                                      \n",
       "1994-01-03  465.440002  270140000             -0.216531   \n",
       "1994-01-04  466.890015  326600000              0.311536   \n",
       "1994-01-05  467.549988  400030000              0.141355   \n",
       "1994-01-06  467.119995  365960000             -0.091967   \n",
       "1994-01-07  469.899994  324920000              0.595136   \n",
       "\n",
       "            lag_pct_change_adj_close  lag_pct_change_volume  \\\n",
       "Date                                                          \n",
       "1994-01-03                 -0.467310             -13.923210   \n",
       "1994-01-04                 -0.216531              60.234889   \n",
       "1994-01-05                  0.311536              20.900274   \n",
       "1994-01-06                  0.141355              22.483160   \n",
       "1994-01-07                 -0.091967              -8.516861   \n",
       "\n",
       "            lag_ma15_pct_change_adj_close   topic 1  consumption  \\\n",
       "Date                                                               \n",
       "1994-01-03                       0.033239  0.041367      0.35654   \n",
       "1994-01-04                       0.022394  0.041367      0.35654   \n",
       "1994-01-05                       0.017728  0.041367      0.35654   \n",
       "1994-01-06                       0.064944  0.041367      0.35654   \n",
       "1994-01-07                       0.076377  0.041367      0.35654   \n",
       "\n",
       "            foreign_exchange_rate  inflation  financial_market   topic 6  \\\n",
       "Date                                                                       \n",
       "1994-01-03               0.071715   0.404525          0.041951  0.083903   \n",
       "1994-01-04               0.071715   0.404525          0.041951  0.083903   \n",
       "1994-01-05               0.071715   0.404525          0.041951  0.083903   \n",
       "1994-01-06               0.071715   0.404525          0.041951  0.083903   \n",
       "1994-01-07               0.071715   0.404525          0.041951  0.083903   \n",
       "\n",
       "            sentiment_mc  sentiment_zstc   ffr  unemployment_rate  median_cpi  \\\n",
       "Date                                                                            \n",
       "1994-01-03      3.265306        0.692368  3.15                6.6    2.711772   \n",
       "1994-01-04      3.265306        0.692368  3.03                6.6    2.711772   \n",
       "1994-01-05      3.265306        0.692368  3.46                6.6    2.711772   \n",
       "1994-01-06      3.265306        0.692368  3.08                6.6    2.711772   \n",
       "1994-01-07      3.265306        0.692368  2.96                6.6    2.711772   \n",
       "\n",
       "            retail_sales  10_year_treasury_yeild  10year_3month_yield_spread  \\\n",
       "Date                                                                           \n",
       "1994-01-03      185142.0                    5.75                        2.76   \n",
       "1994-01-04      185142.0                    5.75                        2.73   \n",
       "1994-01-05      185142.0                    5.75                        2.76   \n",
       "1994-01-06      185142.0                    5.75                        2.72   \n",
       "1994-01-07      185142.0                    5.75                        2.63   \n",
       "\n",
       "              vix  us_china_exchange_rate  us_japan_exchange_rate  sahm  \\\n",
       "Date                                                                      \n",
       "1994-01-03  12.57                  8.7217                  112.50  -0.1   \n",
       "1994-01-04  11.91                  8.7217                  112.75  -0.1   \n",
       "1994-01-05  10.94                  8.7217                  113.10  -0.1   \n",
       "1994-01-06  11.27                  8.7217                  112.75  -0.1   \n",
       "1994-01-07  10.96                  8.7117                  111.97  -0.1   \n",
       "\n",
       "              cpi  inflation_mom  inflation_yoy   real_gdp  gdp_growth_qoq  \\\n",
       "Date                                                                         \n",
       "1994-01-03  146.3       0.205479        2.45098  10195.338        0.970313   \n",
       "1994-01-04  146.3       0.205479        2.45098  10195.338        0.970313   \n",
       "1994-01-05  146.3       0.205479        2.45098  10195.338        0.970313   \n",
       "1994-01-06  146.3       0.205479        2.45098  10195.338        0.970313   \n",
       "1994-01-07  146.3       0.205479        2.45098  10195.338        0.970313   \n",
       "\n",
       "            gdp_growth_yoy    epu_all   epu_news  price_increase  \n",
       "Date                                                              \n",
       "1994-01-03        3.430523  80.009804  82.292801               0  \n",
       "1994-01-04        3.430523  80.009804  82.292801               1  \n",
       "1994-01-05        3.430523  80.009804  82.292801               1  \n",
       "1994-01-06        3.430523  80.009804  82.292801               0  \n",
       "1994-01-07        3.430523  80.009804  82.292801               1  "
      ]
     },
     "execution_count": 4,
     "metadata": {},
     "output_type": "execute_result"
    }
   ],
   "source": [
    "data = pd.read_pickle('../data/full_data.pkl')\n",
    "data.head()"
   ]
  },
  {
   "cell_type": "code",
   "execution_count": 5,
   "id": "8f0212e2-a822-4346-b0c1-e54dd793294d",
   "metadata": {},
   "outputs": [
    {
     "data": {
      "text/plain": [
       "price_increase\n",
       "1    0.538224\n",
       "0    0.461776\n",
       "Name: proportion, dtype: float64"
      ]
     },
     "execution_count": 5,
     "metadata": {},
     "output_type": "execute_result"
    }
   ],
   "source": [
    "data['price_increase'].value_counts(normalize=True)"
   ]
  },
  {
   "cell_type": "markdown",
   "id": "f26fe6e9-2ddc-4b24-a34b-38c909a23f26",
   "metadata": {},
   "source": [
    "## Baseline Model\n",
    "\n",
    "The baseline accuracy in the sample is 53.8%. The objective of the subsequent models is to achieve higher accuracy and surpass this baseline as much as possible."
   ]
  },
  {
   "cell_type": "markdown",
   "id": "2dc58fdd-49cf-4d68-84b1-f1ee3ca3ba70",
   "metadata": {},
   "source": [
    "### Recurrent Neural Net\n",
    "\n",
    "The first model trained is an RNN (Recurrent Neural Network). The test set is set at 10 percent of the data, representing approximately the last two years of market data. The data structuring for the RNN model is based on the method employed by this great [blog post](https://www.simplilearn.com/tutorials/deep-learning-tutorial/rnn)."
   ]
  },
  {
   "cell_type": "code",
   "execution_count": 6,
   "id": "0dc1fd8e-a027-4475-8902-cf0a55ad1ca2",
   "metadata": {},
   "outputs": [],
   "source": [
    "train, test = train_test_split(\n",
    "    data.drop(columns=['Adj Close', 'pct_change_adj_close', 'Volume', 'cpi', \n",
    "                       'inflation_mom', 'real_gdp', 'gdp_growth_qoq', 'sahm', 'median_cpi']), \n",
    "    shuffle=False, \n",
    "    test_size=0.1\n",
    ")"
   ]
  },
  {
   "cell_type": "code",
   "execution_count": 7,
   "id": "8bf2679a-71e0-4572-888d-2e249355c259",
   "metadata": {},
   "outputs": [],
   "source": [
    "mm = MinMaxScaler()\n",
    "# since the labels are binary applying the MinMax scaler would not affet them.\n",
    "training_set_scaled = mm.fit_transform(train)"
   ]
  },
  {
   "cell_type": "code",
   "execution_count": 8,
   "id": "09e5fb50-f7ca-4cc2-a4d3-033daff0b5b9",
   "metadata": {},
   "outputs": [
    {
     "data": {
      "text/plain": [
       "6698"
      ]
     },
     "execution_count": 8,
     "metadata": {},
     "output_type": "execute_result"
    }
   ],
   "source": [
    "len(training_set_scaled)"
   ]
  },
  {
   "cell_type": "code",
   "execution_count": 9,
   "id": "d74b0cc4-f4ae-43d1-9221-0b3fa466024e",
   "metadata": {},
   "outputs": [],
   "source": [
    "def rnn_data_structure(data, timesteps=10):\n",
    "    \"\"\"\n",
    "    Prepare the input data and labels for training a Recurrent Neural Network (RNN) model.\n",
    "\n",
    "    Parameters:\n",
    "        data (numpy.ndarray): The input data to be preprocessed for the RNN model.\n",
    "        timesteps (int, optional): The number of time steps to use as input for each sample in the RNN. Default is 10.\n",
    "\n",
    "    Returns:\n",
    "        tuple: A tuple containing two numpy arrays - (X, y).\n",
    "            X (numpy.ndarray): A 3D array of shape (num_samples, timesteps, num_features) representing the input data sequences.\n",
    "            y (numpy.ndarray): A 1D array of shape (num_samples,) representing the corresponding labels (output values) for each input sequence.\n",
    "    \"\"\"\n",
    "\n",
    "    # Create empty lists to store the input data and corresponding labels\n",
    "    X = []  # Will store the input data sequences\n",
    "    y = []  # Will store the labels (output values) corresponding to each input sequence\n",
    "\n",
    "    # Iterate over the data, starting from the (timesteps - 1)-th element up to the end\n",
    "    for i in range(timesteps - 1, len(data)):\n",
    "        # Extract a slice of the input data, from (i - timesteps + 1) to i (inclusive) for each sample\n",
    "        # Exclude the last element from the slice, as it represents the label\n",
    "        X.append(data[i - timesteps + 1:i + 1, :-1])\n",
    "\n",
    "        # Append the last element of the slice (the label) to the y list\n",
    "        y.append(data[i, -1])\n",
    "\n",
    "    # Convert the lists X and y into numpy arrays for further processing\n",
    "    X, y = np.array(X), np.array(y)\n",
    "\n",
    "    # Return the processed input data (X) and labels (y)\n",
    "    return X, y\n"
   ]
  },
  {
   "cell_type": "code",
   "execution_count": 10,
   "id": "81eb93e2-7526-47cc-bcb3-62563e32616c",
   "metadata": {},
   "outputs": [],
   "source": [
    "time_steps = 20\n",
    "X_train, y_train = rnn_data_structure(training_set_scaled, timesteps=time_steps)"
   ]
  },
  {
   "cell_type": "code",
   "execution_count": 11,
   "id": "4b602888-575c-4061-8da8-e5d1fc7d8dda",
   "metadata": {},
   "outputs": [],
   "source": [
    "test_set_scaled = mm.transform(test)\n",
    "X_test, y_test = rnn_data_structure(test_set_scaled, timesteps=time_steps)"
   ]
  },
  {
   "cell_type": "code",
   "execution_count": 12,
   "id": "4369e685-7628-4ecf-8ff0-5b2b62a417b5",
   "metadata": {},
   "outputs": [
    {
     "name": "stdout",
     "output_type": "stream",
     "text": [
      "(6679, 20, 23)\n",
      "(6679,)\n",
      "(726, 20, 23)\n",
      "(726,)\n"
     ]
    }
   ],
   "source": [
    "print(X_train.shape)\n",
    "print(y_train.shape)\n",
    "print(X_test.shape)\n",
    "print(y_test.shape)"
   ]
  },
  {
   "cell_type": "code",
   "execution_count": 13,
   "id": "63746804-50e4-4e17-8c1f-fc21fc7c3ecc",
   "metadata": {},
   "outputs": [],
   "source": [
    "model = Sequential()\n",
    "model.add(LSTM(128, return_sequences=True, input_shape=(time_steps, X_train.shape[-1])))\n",
    "model.add(LSTM(64, return_sequences=True))\n",
    "model.add(LSTM(64))\n",
    "model.add(Dense(32, activation='relu'))\n",
    "model.add(Dropout(0.2))\n",
    "model.add(Dense(1, activation='sigmoid'))"
   ]
  },
  {
   "cell_type": "code",
   "execution_count": 14,
   "id": "76bfd5ed-7f72-42b7-91e0-1f6068acaf87",
   "metadata": {},
   "outputs": [
    {
     "name": "stdout",
     "output_type": "stream",
     "text": [
      "Model: \"sequential\"\n",
      "_________________________________________________________________\n",
      " Layer (type)                Output Shape              Param #   \n",
      "=================================================================\n",
      " lstm (LSTM)                 (None, 20, 128)           77824     \n",
      "                                                                 \n",
      " lstm_1 (LSTM)               (None, 20, 64)            49408     \n",
      "                                                                 \n",
      " lstm_2 (LSTM)               (None, 64)                33024     \n",
      "                                                                 \n",
      " dense (Dense)               (None, 32)                2080      \n",
      "                                                                 \n",
      " dropout (Dropout)           (None, 32)                0         \n",
      "                                                                 \n",
      " dense_1 (Dense)             (None, 1)                 33        \n",
      "                                                                 \n",
      "=================================================================\n",
      "Total params: 162369 (634.25 KB)\n",
      "Trainable params: 162369 (634.25 KB)\n",
      "Non-trainable params: 0 (0.00 Byte)\n",
      "_________________________________________________________________\n"
     ]
    }
   ],
   "source": [
    "model.summary()"
   ]
  },
  {
   "cell_type": "code",
   "execution_count": 15,
   "id": "31fa0163-dbac-4437-a4ce-7efb016ad35a",
   "metadata": {},
   "outputs": [],
   "source": [
    "model.compile(loss='bce', optimizer='rmsprop', metrics=['acc'])\n",
    "es = EarlyStopping(monitor='val_loss', patience=10, restore_best_weights=True)"
   ]
  },
  {
   "cell_type": "code",
   "execution_count": 16,
   "id": "199c86a8-b0a7-41dc-9e8b-f1768a5f8b9e",
   "metadata": {},
   "outputs": [
    {
     "name": "stdout",
     "output_type": "stream",
     "text": [
      "Epoch 1/20\n",
      "105/105 [==============================] - 6s 39ms/step - loss: 0.6940 - acc: 0.5302 - val_loss: 0.6954 - val_acc: 0.5124\n",
      "Epoch 2/20\n",
      "105/105 [==============================] - 3s 29ms/step - loss: 0.6922 - acc: 0.5320 - val_loss: 0.6966 - val_acc: 0.5124\n",
      "Epoch 3/20\n",
      "105/105 [==============================] - 4s 33ms/step - loss: 0.6911 - acc: 0.5387 - val_loss: 0.6972 - val_acc: 0.5124\n",
      "Epoch 4/20\n",
      "105/105 [==============================] - 5s 44ms/step - loss: 0.6909 - acc: 0.5404 - val_loss: 0.6953 - val_acc: 0.5124\n",
      "Epoch 5/20\n",
      "105/105 [==============================] - 4s 37ms/step - loss: 0.6908 - acc: 0.5401 - val_loss: 0.7106 - val_acc: 0.5124\n",
      "Epoch 6/20\n",
      "105/105 [==============================] - 4s 43ms/step - loss: 0.6896 - acc: 0.5421 - val_loss: 0.6944 - val_acc: 0.5124\n",
      "Epoch 7/20\n",
      "105/105 [==============================] - 3s 31ms/step - loss: 0.6898 - acc: 0.5390 - val_loss: 0.6924 - val_acc: 0.5124\n",
      "Epoch 8/20\n",
      "105/105 [==============================] - 4s 33ms/step - loss: 0.6902 - acc: 0.5396 - val_loss: 0.6924 - val_acc: 0.5234\n",
      "Epoch 9/20\n",
      "105/105 [==============================] - 6s 58ms/step - loss: 0.6899 - acc: 0.5396 - val_loss: 0.7719 - val_acc: 0.5124\n",
      "Epoch 10/20\n",
      "105/105 [==============================] - 5s 43ms/step - loss: 0.6904 - acc: 0.5405 - val_loss: 0.6934 - val_acc: 0.5124\n",
      "Epoch 11/20\n",
      "105/105 [==============================] - 4s 38ms/step - loss: 0.6899 - acc: 0.5412 - val_loss: 0.6948 - val_acc: 0.5124\n",
      "Epoch 12/20\n",
      "105/105 [==============================] - 4s 35ms/step - loss: 0.6899 - acc: 0.5408 - val_loss: 0.6954 - val_acc: 0.5179\n",
      "Epoch 13/20\n",
      "105/105 [==============================] - 3s 33ms/step - loss: 0.6900 - acc: 0.5404 - val_loss: 0.7086 - val_acc: 0.5124\n",
      "Epoch 14/20\n",
      "105/105 [==============================] - 3s 32ms/step - loss: 0.6903 - acc: 0.5405 - val_loss: 0.6937 - val_acc: 0.5124\n",
      "Epoch 15/20\n",
      "105/105 [==============================] - 3s 31ms/step - loss: 0.6891 - acc: 0.5405 - val_loss: 0.6923 - val_acc: 0.5124\n",
      "Epoch 16/20\n",
      "105/105 [==============================] - 4s 37ms/step - loss: 0.6898 - acc: 0.5408 - val_loss: 0.6914 - val_acc: 0.5110\n",
      "Epoch 17/20\n",
      "105/105 [==============================] - 4s 37ms/step - loss: 0.6893 - acc: 0.5409 - val_loss: 0.6960 - val_acc: 0.5124\n",
      "Epoch 18/20\n",
      "105/105 [==============================] - 3s 32ms/step - loss: 0.6890 - acc: 0.5439 - val_loss: 0.6920 - val_acc: 0.5124\n",
      "Epoch 19/20\n",
      "105/105 [==============================] - 3s 30ms/step - loss: 0.6890 - acc: 0.5412 - val_loss: 0.6956 - val_acc: 0.5523\n",
      "Epoch 20/20\n",
      "105/105 [==============================] - 3s 32ms/step - loss: 0.6911 - acc: 0.5395 - val_loss: 0.6939 - val_acc: 0.5344\n"
     ]
    }
   ],
   "source": [
    "history = model.fit(\n",
    "    X_train,\n",
    "    y_train,\n",
    "    validation_data= (X_test, y_test),\n",
    "    epochs=20,\n",
    "    batch_size = 64,\n",
    "    callbacks = es\n",
    ")"
   ]
  },
  {
   "cell_type": "code",
   "execution_count": 17,
   "id": "219cb576-1397-420e-993d-e84f4c5078dd",
   "metadata": {},
   "outputs": [
    {
     "data": {
      "image/png": "[encoded data removed]",
      "text/plain": [
       "<Figure size 1400x500 with 1 Axes>"
      ]
     },
     "metadata": {},
     "output_type": "display_data"
    }
   ],
   "source": [
    "plt.figure(figsize=(14, 5))\n",
    "plt.plot(history.history['loss'], c='navy', label='Train')\n",
    "plt.plot(history.history['val_loss'], c='skyblue', label='Val')\n",
    "plt.legend();"
   ]
  },
  {
   "cell_type": "markdown",
   "id": "54d7ef19-d637-4a92-8f91-ffc2aa8b89ee",
   "metadata": {},
   "source": [
    "As evident from the plot, the RNN model is not performing well in making predictions. The validation accuracy remains almost unchanged as the training progresses through new epochs. This suggests that the RNN model is facing challenges in learning meaningful patterns from the data, resulting in limited predictive power. "
   ]
  },
  {
   "cell_type": "code",
   "execution_count": 18,
   "id": "fb638623-f000-4739-b2b8-88e46affc0ad",
   "metadata": {},
   "outputs": [
    {
     "name": "stdout",
     "output_type": "stream",
     "text": [
      "23/23 [==============================] - 0s 6ms/step - loss: 0.6939 - acc: 0.5344\n"
     ]
    },
    {
     "data": {
      "text/plain": [
       "[0.6938558220863342, 0.5344352722167969]"
      ]
     },
     "execution_count": 18,
     "metadata": {},
     "output_type": "execute_result"
    }
   ],
   "source": [
    "model.evaluate(X_test, y_test)"
   ]
  },
  {
   "cell_type": "code",
   "execution_count": 19,
   "id": "f5d9193f-68b4-4d76-834a-b4c7c875cb06",
   "metadata": {},
   "outputs": [
    {
     "name": "stdout",
     "output_type": "stream",
     "text": [
      "23/23 [==============================] - 0s 5ms/step\n"
     ]
    }
   ],
   "source": [
    "pred_test = model.predict(X_test)"
   ]
  },
  {
   "cell_type": "code",
   "execution_count": 20,
   "id": "8cce20f2-f7e9-40a5-8570-df25e0614afa",
   "metadata": {},
   "outputs": [
    {
     "data": {
      "text/plain": [
       "(726,)"
      ]
     },
     "execution_count": 20,
     "metadata": {},
     "output_type": "execute_result"
    }
   ],
   "source": [
    "pred_test = pred_test.reshape(-1)\n",
    "pred_test.shape"
   ]
  },
  {
   "cell_type": "code",
   "execution_count": 21,
   "id": "c158a93b-571b-4bd8-a55c-f5f3a81a1931",
   "metadata": {},
   "outputs": [
    {
     "data": {
      "text/plain": [
       "(726,)"
      ]
     },
     "execution_count": 21,
     "metadata": {},
     "output_type": "execute_result"
    }
   ],
   "source": [
    "pred_test = pred_test.reshape(-1)\n",
    "pred_test.shape"
   ]
  },
  {
   "cell_type": "code",
   "execution_count": 22,
   "id": "8cf3d3c5-a962-42fd-ac78-9b0e7c535624",
   "metadata": {},
   "outputs": [],
   "source": [
    "threshold = 0.52\n",
    "y_pred = np.where(pred_test >= threshold, 1, 0)"
   ]
  },
  {
   "cell_type": "code",
   "execution_count": 23,
   "id": "30567234-9f2d-45c0-9c1f-5bb57e83f7af",
   "metadata": {},
   "outputs": [
    {
     "name": "stdout",
     "output_type": "stream",
     "text": [
      "Confusion Matrix:\n",
      "[[108 246]\n",
      " [ 83 289]]\n"
     ]
    }
   ],
   "source": [
    "conf_matrix = confusion_matrix(y_test, y_pred)\n",
    "print(\"Confusion Matrix:\")\n",
    "print(conf_matrix)\n"
   ]
  },
  {
   "cell_type": "code",
   "execution_count": 24,
   "id": "83f2af5c-8929-4d3f-8659-afa531a8b767",
   "metadata": {},
   "outputs": [
    {
     "name": "stdout",
     "output_type": "stream",
     "text": [
      "              precision    recall  f1-score   support\n",
      "\n",
      "         0.0       0.57      0.31      0.40       354\n",
      "         1.0       0.54      0.78      0.64       372\n",
      "\n",
      "    accuracy                           0.55       726\n",
      "   macro avg       0.55      0.54      0.52       726\n",
      "weighted avg       0.55      0.55      0.52       726\n",
      "\n"
     ]
    },
    {
     "data": {
      "image/png": "[encoded data removed]",
      "text/plain": [
       "<Figure size 640x480 with 2 Axes>"
      ]
     },
     "metadata": {},
     "output_type": "display_data"
    }
   ],
   "source": [
    "print(classification_report(y_test, y_pred))\n",
    "ConfusionMatrixDisplay.from_predictions(y_test, y_pred, cmap='Blues');"
   ]
  },
  {
   "cell_type": "markdown",
   "id": "f4bed066-de40-4e3c-9076-405556024334",
   "metadata": {},
   "source": [
    "Using a threshold of 0.52 may lead to a slight increase in model accuracy. However, it's important to note that this value is arbitrary and should be used with caution. In cases where we expect a 50-50 outcome, fishing for the best threshold is generally not a good practice. We should avoid tuning the threshold arbitrarily as this can lead to an overfit validation set that may not generalize well to unseen data."
   ]
  },
  {
   "cell_type": "markdown",
   "id": "f36acbd4-0ce9-44ac-9f37-675ab06ebb44",
   "metadata": {},
   "source": [
    "Next, I'll prepare the data for other machine learning approaches. "
   ]
  },
  {
   "cell_type": "code",
   "execution_count": 25,
   "id": "fc2ba133-3218-421f-a0c3-1c0de146cc72",
   "metadata": {},
   "outputs": [
    {
     "name": "stdout",
     "output_type": "stream",
     "text": [
      "(6698, 23) (745, 23)\n"
     ]
    }
   ],
   "source": [
    "X = data.drop(columns=['Adj Close', 'pct_change_adj_close', 'Volume', 'cpi', \n",
    "                       'inflation_mom', 'real_gdp', 'gdp_growth_qoq', 'sahm', 'median_cpi', 'price_increase'])\n",
    "\n",
    "y = data['price_increase']\n",
    " \n",
    "X_train, X_test, y_train, y_test = train_test_split(\n",
    "    X, y, test_size=0.1, shuffle=False)\n",
    "\n",
    "sc = StandardScaler()\n",
    "X_train = sc.fit_transform(X_train)\n",
    "X_test = sc.transform(X_test)\n",
    "\n",
    "print(X_train.shape, X_test.shape)"
   ]
  },
  {
   "cell_type": "code",
   "execution_count": 26,
   "id": "5750d5d3-7fb5-4f94-8444-10d6755497bc",
   "metadata": {},
   "outputs": [],
   "source": [
    "kf = KFold(n_splits=5, shuffle=True, random_state=42)"
   ]
  },
  {
   "cell_type": "code",
   "execution_count": 27,
   "id": "b76fe85f-48ea-455d-b4da-73eb1e3ea036",
   "metadata": {},
   "outputs": [],
   "source": [
    "# hyperparameters of logistic regression\n",
    "\n",
    "logreg_params = {\n",
    "    'penalty':[None, 'l1', 'l2'], \n",
    "    'C': np.linspace(0.01, 1, 50),\n",
    "}"
   ]
  },
  {
   "cell_type": "code",
   "execution_count": 28,
   "id": "3e6ad066-2659-4463-a557-402d51d6fc40",
   "metadata": {},
   "outputs": [],
   "source": [
    "# hyperparameters of random forest estimator\n",
    "\n",
    "rf_params = {\n",
    "    'n_estimators': [100, 150, 175, 200, 225, 250],\n",
    "    'max_depth': [None, 3, 5, 10, 20, 40, 60, 80, 100],\n",
    "    'min_samples_split': np.arange(1, 20, 1)\n",
    "}"
   ]
  },
  {
   "cell_type": "code",
   "execution_count": 29,
   "id": "dcb5016d-c3f0-430c-bd13-11b49328b561",
   "metadata": {},
   "outputs": [],
   "source": [
    "# hyperparameters of support vector classifier\n",
    "svc_params={'C': np.linspace(0.01, 4, 50),\n",
    "            'kernel': ['rbf','poly', 'linear'], \n",
    "            'degree' : [2,3,4]\n",
    "           }"
   ]
  },
  {
   "cell_type": "code",
   "execution_count": 30,
   "id": "c9b6fe47-6d7d-49e4-a4a7-83506470ea6b",
   "metadata": {},
   "outputs": [],
   "source": [
    "# hyperparameters of gradient boosting classifier\n",
    "gb_params = {\n",
    "    'learning_rate': [0.1, 0.5, 1, 1.025, 1.05, 1.075, 1.1],\n",
    "    'n_estimators': [100, 125, 150, 170, 175, 180, 185],\n",
    "    'max_features': [None, 'sqrt', 'log2'],\n",
    "    'max_depth': np.append(None, np.arange(1, 21, 2))\n",
    "}"
   ]
  },
  {
   "cell_type": "code",
   "execution_count": 31,
   "id": "8b167b80-3e86-4f7c-a72b-dadf23a05e40",
   "metadata": {},
   "outputs": [],
   "source": [
    "model_dict = {\n",
    "              'logreg': {'mod_instant': LogisticRegression(solver='liblinear', max_iter= 5000), 'mod_param':logreg_params},\n",
    "              'rf': {'mod_instant': RandomForestClassifier(random_state= 42), 'mod_param':rf_params},\n",
    "              'svc':{'mod_instant': SVC(probability=True), 'mod_param': svc_params},\n",
    "              'gb': {'mod_instant': GradientBoostingClassifier(random_state= 42), 'mod_param':gb_params}           \n",
    "             }"
   ]
  },
  {
   "cell_type": "code",
   "execution_count": 32,
   "id": "418a2bab-a083-4fde-a4cb-c9022b6bfba9",
   "metadata": {},
   "outputs": [],
   "source": [
    "def random_search_modeler(model, cross_validation=5, model_params=None, random_state=42, num_iter=30):\n",
    "    \"\"\"\n",
    "    Perform hyperparameter tuning using Randomized Search Cross-Validation for a given model.\n",
    "\n",
    "    Parameters:\n",
    "        model: The machine learning model to be tuned.\n",
    "        cross_validation (int, optional): Number of cross-validation folds. Default is 5.\n",
    "        model_params (dict, optional): Dictionary of hyperparameter ranges for the model. Default is None.\n",
    "        random_state (int, optional): Random seed for reproducibility. Default is 42.\n",
    "        num_iter (int, optional): Number of iterations for random search. Default is 20.\n",
    "\n",
    "    Returns:\n",
    "        RandomizedSearchCV: A RandomizedSearchCV object with the specified model, hyperparameter ranges, and cross-validation settings.\n",
    "    \"\"\"\n",
    "\n",
    "    # Create a Pipeline with the given model\n",
    "    pipe = Pipeline([\n",
    "        ('model', model)\n",
    "    ])\n",
    "\n",
    "    # Create an empty dictionary to store hyperparameter ranges in the format expected by RandomizedSearchCV\n",
    "    pgrids = {}\n",
    "\n",
    "    # Check if model_params is provided, if yes, update the pgrids dictionary with the specified hyperparameter ranges\n",
    "    if model_params:\n",
    "        for key, val in model_params.items():\n",
    "            pgrids[f\"model__{key}\"] = val\n",
    "\n",
    "    # Initialize RandomizedSearchCV with the pipeline, hyperparameter ranges, and other specified settings\n",
    "    rs = RandomizedSearchCV(pipe, param_distributions=pgrids, cv=cross_validation, random_state=random_state, n_iter=num_iter)\n",
    "\n",
    "    # Return the RandomizedSearchCV object for further use (fitting and evaluation)\n",
    "    return rs"
   ]
  },
  {
   "cell_type": "code",
   "execution_count": 33,
   "id": "900b120d-f9e3-43f8-86a5-330517dd48c1",
   "metadata": {},
   "outputs": [
    {
     "name": "stdout",
     "output_type": "stream",
     "text": [
      "LogisticRegression(max_iter=5000, solver='liblinear') successfully completed.\n",
      "RandomForestClassifier(random_state=42) successfully completed.\n",
      "SVC(probability=True) successfully completed.\n",
      "GradientBoostingClassifier(random_state=42) successfully completed.\n",
      "CPU times: user 17min 17s, sys: 23.6 s, total: 17min 41s\n",
      "Wall time: 17min\n"
     ]
    }
   ],
   "source": [
    "%%time \n",
    "models = {}\n",
    "\n",
    "# Iterate over each key-value pair in the model_dict dictionary\n",
    "for key, dic in model_dict.items():\n",
    "    # Create an instance of the random_search_modeler function\n",
    "    # with the specified model, cross-validation strategy, and model parameters\n",
    "    model = random_search_modeler(dic['mod_instant'], \n",
    "                                    cross_validation=kf, \n",
    "                                    model_params=dic['mod_param']\n",
    "                                 )\n",
    "    \n",
    "    # Fit the random_search_modeler object to the training data\n",
    "    model.fit(X_train, y_train)\n",
    "    print(f\"{dic['mod_instant']} successfully completed.\")\n",
    "    \n",
    "    # Assign the fitted model to the models dictionary using the corresponding key\n",
    "    models[key] = model"
   ]
  },
  {
   "cell_type": "code",
   "execution_count": 34,
   "id": "fb576bde-0cc3-49f9-9b74-c2a525f32f51",
   "metadata": {},
   "outputs": [
    {
     "name": "stdout",
     "output_type": "stream",
     "text": [
      "logreg model - Train Accuracy: 0.5810689758136757\n",
      "logreg model - Validation Accuracy: 0.5315436241610738\n",
      "logreg model - Validation AUC: 0.6207792207792208\n",
      "\n",
      "\n",
      "              precision    recall  f1-score   support\n",
      "\n",
      "           0       0.51      0.85      0.64       360\n",
      "           1       0.62      0.23      0.34       385\n",
      "\n",
      "    accuracy                           0.53       745\n",
      "   macro avg       0.57      0.54      0.49       745\n",
      "weighted avg       0.57      0.53      0.48       745\n",
      "\n",
      "\n",
      "\n",
      "rf model - Train Accuracy: 0.9562555986861749\n",
      "rf model - Validation Accuracy: 0.5583892617449664\n",
      "rf model - Validation AUC: 0.5897041847041846\n",
      "\n",
      "\n",
      "              precision    recall  f1-score   support\n",
      "\n",
      "           0       0.54      0.64      0.58       360\n",
      "           1       0.59      0.49      0.53       385\n",
      "\n",
      "    accuracy                           0.56       745\n",
      "   macro avg       0.56      0.56      0.56       745\n",
      "weighted avg       0.56      0.56      0.56       745\n",
      "\n",
      "\n",
      "\n",
      "svc model - Train Accuracy: 0.6914004180352344\n",
      "svc model - Validation Accuracy: 0.5395973154362416\n",
      "svc model - Validation AUC: 0.5801587301587301\n",
      "\n",
      "\n",
      "              precision    recall  f1-score   support\n",
      "\n",
      "           0       0.53      0.40      0.45       360\n",
      "           1       0.54      0.67      0.60       385\n",
      "\n",
      "    accuracy                           0.54       745\n",
      "   macro avg       0.54      0.53      0.53       745\n",
      "weighted avg       0.54      0.54      0.53       745\n",
      "\n",
      "\n",
      "\n",
      "gb model - Train Accuracy: 0.7996416840848014\n",
      "gb model - Validation Accuracy: 0.5651006711409396\n",
      "gb model - Validation AUC: 0.6123051948051949\n",
      "\n",
      "\n",
      "              precision    recall  f1-score   support\n",
      "\n",
      "           0       0.56      0.44      0.49       360\n",
      "           1       0.57      0.69      0.62       385\n",
      "\n",
      "    accuracy                           0.57       745\n",
      "   macro avg       0.57      0.56      0.56       745\n",
      "weighted avg       0.57      0.57      0.56       745\n",
      "\n",
      "\n",
      "\n"
     ]
    }
   ],
   "source": [
    "for model in ['logreg', 'rf', 'svc', 'gb']:\n",
    "\n",
    "    print(f\"{model} model - Train Accuracy:\", models[model].score(X_train, y_train))\n",
    "    print(f\"{model} model - Validation Accuracy:\", models[model].score(X_test, y_test))\n",
    "    print(f\"{model} model - Validation AUC:\", roc_auc_score(y_test, models[model].predict_proba(X_test)[:, 1]))\n",
    "    print('\\n')\n",
    "    print(classification_report(y_test, models[model].predict(X_test)))\n",
    "    print('\\n')"
   ]
  },
  {
   "cell_type": "code",
   "execution_count": 35,
   "id": "d05d5350-93c0-49da-9760-bc25685fd75e",
   "metadata": {},
   "outputs": [
    {
     "data": {
      "image/png": "[encoded data removed]",
      "text/plain": [
       "<Figure size 640x480 with 2 Axes>"
      ]
     },
     "metadata": {},
     "output_type": "display_data"
    }
   ],
   "source": [
    "ConfusionMatrixDisplay.from_estimator(models['gb'], X_test, y_test, cmap='Blues')\n",
    "plt.show()"
   ]
  },
  {
   "cell_type": "code",
   "execution_count": 36,
   "id": "d28aac8b-9146-4d05-8fe9-4422b432d5ac",
   "metadata": {},
   "outputs": [
    {
     "data": {
      "text/plain": [
       "<sklearn.metrics._plot.roc_curve.RocCurveDisplay at 0x293e13130>"
      ]
     },
     "execution_count": 36,
     "metadata": {},
     "output_type": "execute_result"
    },
    {
     "data": {
      "image/png": "[encoded data removed]",
      "text/plain": [
       "<Figure size 640x480 with 1 Axes>"
      ]
     },
     "metadata": {},
     "output_type": "display_data"
    }
   ],
   "source": [
    "RocCurveDisplay.from_estimator(models['gb'], X_test, y_test)"
   ]
  },
  {
   "cell_type": "code",
   "execution_count": 37,
   "id": "0d40b664-90ed-44d6-a039-0674b50619a4",
   "metadata": {},
   "outputs": [
    {
     "data": {
      "image/png": "[encoded data removed]",
      "text/plain": [
       "<Figure size 1300x600 with 2 Axes>"
      ]
     },
     "metadata": {},
     "output_type": "display_data"
    }
   ],
   "source": [
    "color = \"#F1F1F1\"\n",
    "\n",
    "# sns.set_style('white')\n",
    "plt.rcParams[\"figure.facecolor\"] = color\n",
    "\n",
    "fig, ax = plt.subplots(1, 2, figsize=(13, 6))\n",
    "ConfusionMatrixDisplay.from_estimator(models['gb'], X_test, y_test, cmap='Oranges', colorbar=False, ax=ax[0])\n",
    "RocCurveDisplay.from_estimator(models['gb'], X_test, y_test, ax=ax[1], color ='#7F2704')\n",
    "\n",
    "ax[0].set_title('Confusion Matrix')\n",
    "ax[1].set_title('ROC Curve')\n",
    "\n",
    "ax[0].set_facecolor(color)\n",
    "ax[1].set_facecolor(color)\n",
    "\n",
    "fig.suptitle('Model Performance', fontsize=18)\n",
    "\n",
    "ax[1].legend(frameon=False, loc='lower right')\n",
    "\n",
    "plt.savefig('../images/model_performance.png', dpi=300);"
   ]
  },
  {
   "cell_type": "markdown",
   "id": "4f15b37e-8338-432a-bdc9-8b818d74054b",
   "metadata": {},
   "source": []
  },
  {
   "cell_type": "markdown",
   "id": "fc12dbb7-abe1-4829-b982-8c412d17c446",
   "metadata": {
    "tags": []
   },
   "source": [
    "### Analysing Weekly data:\n",
    "Up until now, the discussion has primarily relied on daily data for all variables. However, a challenge arises due to the mixed frequencies of the data and the fact that many predictors have monthly (or even slower) frequencies. This situation leads to repeated values over time for such variables.\n",
    "\n",
    "To address this issue, the data is transformed from daily to weekly, which helps mitigate the problem of excessive repetitions. With the data now in a weekly format, the models are reintroduced to this updated dataset for further analysis, aiming to predict weekly changes in the stock market."
   ]
  },
  {
   "cell_type": "code",
   "execution_count": 38,
   "id": "73cb8284-6a47-4691-923f-357a69fedb63",
   "metadata": {},
   "outputs": [
    {
     "data": {
      "text/html": [
       "<div>\n",
       "<style scoped>\n",
       "    .dataframe tbody tr th:only-of-type {\n",
       "        vertical-align: middle;\n",
       "    }\n",
       "\n",
       "    .dataframe tbody tr th {\n",
       "        vertical-align: top;\n",
       "    }\n",
       "\n",
       "    .dataframe thead th {\n",
       "        text-align: right;\n",
       "    }\n",
       "</style>\n",
       "<table border=\"1\" class=\"dataframe\">\n",
       "  <thead>\n",
       "    <tr style=\"text-align: right;\">\n",
       "      <th></th>\n",
       "      <th>pct_change_close_lag</th>\n",
       "      <th>ffr</th>\n",
       "      <th>unemployment_rate</th>\n",
       "      <th>retail_sales</th>\n",
       "      <th>10_year_treasury_yeild</th>\n",
       "      <th>10year_3month_yield_spread</th>\n",
       "      <th>vix</th>\n",
       "      <th>us_china_exchange_rate</th>\n",
       "      <th>us_japan_exchange_rate</th>\n",
       "      <th>inflation_yoy</th>\n",
       "      <th>gdp_growth_yoy</th>\n",
       "      <th>epu_all</th>\n",
       "      <th>pct_change_vol_lag</th>\n",
       "      <th>topic 1</th>\n",
       "      <th>consumption</th>\n",
       "      <th>foreign_exchange_rate</th>\n",
       "      <th>inflation</th>\n",
       "      <th>financial_market</th>\n",
       "      <th>topic 6</th>\n",
       "      <th>sentiment_mc</th>\n",
       "      <th>sentiment_zstc</th>\n",
       "      <th>price_increase</th>\n",
       "    </tr>\n",
       "    <tr>\n",
       "      <th>Date</th>\n",
       "      <th></th>\n",
       "      <th></th>\n",
       "      <th></th>\n",
       "      <th></th>\n",
       "      <th></th>\n",
       "      <th></th>\n",
       "      <th></th>\n",
       "      <th></th>\n",
       "      <th></th>\n",
       "      <th></th>\n",
       "      <th></th>\n",
       "      <th></th>\n",
       "      <th></th>\n",
       "      <th></th>\n",
       "      <th></th>\n",
       "      <th></th>\n",
       "      <th></th>\n",
       "      <th></th>\n",
       "      <th></th>\n",
       "      <th></th>\n",
       "      <th></th>\n",
       "      <th></th>\n",
       "    </tr>\n",
       "  </thead>\n",
       "  <tbody>\n",
       "    <tr>\n",
       "      <th>1994-01-23</th>\n",
       "      <td>0.010662</td>\n",
       "      <td>2.95</td>\n",
       "      <td>6.6</td>\n",
       "      <td>185142.0</td>\n",
       "      <td>5.75</td>\n",
       "      <td>2.75</td>\n",
       "      <td>11.15</td>\n",
       "      <td>8.7217</td>\n",
       "      <td>111.24</td>\n",
       "      <td>2.450980</td>\n",
       "      <td>3.430523</td>\n",
       "      <td>80.009804</td>\n",
       "      <td>-0.061554</td>\n",
       "      <td>0.041367</td>\n",
       "      <td>0.356540</td>\n",
       "      <td>0.071715</td>\n",
       "      <td>0.404525</td>\n",
       "      <td>0.041951</td>\n",
       "      <td>0.083903</td>\n",
       "      <td>3.265306</td>\n",
       "      <td>0.692368</td>\n",
       "      <td>0</td>\n",
       "    </tr>\n",
       "    <tr>\n",
       "      <th>1994-01-30</th>\n",
       "      <td>-0.000400</td>\n",
       "      <td>2.91</td>\n",
       "      <td>6.6</td>\n",
       "      <td>185142.0</td>\n",
       "      <td>5.75</td>\n",
       "      <td>2.72</td>\n",
       "      <td>11.09</td>\n",
       "      <td>8.7257</td>\n",
       "      <td>111.25</td>\n",
       "      <td>2.450980</td>\n",
       "      <td>3.430523</td>\n",
       "      <td>80.009804</td>\n",
       "      <td>0.135872</td>\n",
       "      <td>0.041367</td>\n",
       "      <td>0.356540</td>\n",
       "      <td>0.071715</td>\n",
       "      <td>0.404525</td>\n",
       "      <td>0.041951</td>\n",
       "      <td>0.083903</td>\n",
       "      <td>3.265306</td>\n",
       "      <td>0.692368</td>\n",
       "      <td>1</td>\n",
       "    </tr>\n",
       "    <tr>\n",
       "      <th>1994-02-06</th>\n",
       "      <td>0.008384</td>\n",
       "      <td>2.98</td>\n",
       "      <td>6.6</td>\n",
       "      <td>185142.0</td>\n",
       "      <td>5.75</td>\n",
       "      <td>2.69</td>\n",
       "      <td>9.94</td>\n",
       "      <td>8.7217</td>\n",
       "      <td>109.45</td>\n",
       "      <td>2.450980</td>\n",
       "      <td>3.430523</td>\n",
       "      <td>80.009804</td>\n",
       "      <td>-0.095886</td>\n",
       "      <td>0.041367</td>\n",
       "      <td>0.356540</td>\n",
       "      <td>0.071715</td>\n",
       "      <td>0.404525</td>\n",
       "      <td>0.041951</td>\n",
       "      <td>0.083903</td>\n",
       "      <td>3.265306</td>\n",
       "      <td>0.692368</td>\n",
       "      <td>0</td>\n",
       "    </tr>\n",
       "    <tr>\n",
       "      <th>1994-02-13</th>\n",
       "      <td>-0.018571</td>\n",
       "      <td>3.19</td>\n",
       "      <td>6.6</td>\n",
       "      <td>188074.0</td>\n",
       "      <td>5.97</td>\n",
       "      <td>2.64</td>\n",
       "      <td>15.25</td>\n",
       "      <td>8.7228</td>\n",
       "      <td>108.98</td>\n",
       "      <td>2.515723</td>\n",
       "      <td>3.430523</td>\n",
       "      <td>94.592697</td>\n",
       "      <td>0.208341</td>\n",
       "      <td>0.233732</td>\n",
       "      <td>0.287235</td>\n",
       "      <td>0.056753</td>\n",
       "      <td>0.312348</td>\n",
       "      <td>0.050946</td>\n",
       "      <td>0.058986</td>\n",
       "      <td>2.780331</td>\n",
       "      <td>0.639252</td>\n",
       "      <td>1</td>\n",
       "    </tr>\n",
       "    <tr>\n",
       "      <th>1994-02-20</th>\n",
       "      <td>0.000788</td>\n",
       "      <td>3.14</td>\n",
       "      <td>6.6</td>\n",
       "      <td>188074.0</td>\n",
       "      <td>5.97</td>\n",
       "      <td>2.55</td>\n",
       "      <td>14.46</td>\n",
       "      <td>8.7292</td>\n",
       "      <td>107.67</td>\n",
       "      <td>2.515723</td>\n",
       "      <td>3.430523</td>\n",
       "      <td>94.592697</td>\n",
       "      <td>-0.435118</td>\n",
       "      <td>0.233732</td>\n",
       "      <td>0.287235</td>\n",
       "      <td>0.056753</td>\n",
       "      <td>0.312348</td>\n",
       "      <td>0.050946</td>\n",
       "      <td>0.058986</td>\n",
       "      <td>2.780331</td>\n",
       "      <td>0.639252</td>\n",
       "      <td>0</td>\n",
       "    </tr>\n",
       "  </tbody>\n",
       "</table>\n",
       "</div>"
      ],
      "text/plain": [
       "            pct_change_close_lag   ffr  unemployment_rate  retail_sales  \\\n",
       "Date                                                                      \n",
       "1994-01-23              0.010662  2.95                6.6      185142.0   \n",
       "1994-01-30             -0.000400  2.91                6.6      185142.0   \n",
       "1994-02-06              0.008384  2.98                6.6      185142.0   \n",
       "1994-02-13             -0.018571  3.19                6.6      188074.0   \n",
       "1994-02-20              0.000788  3.14                6.6      188074.0   \n",
       "\n",
       "            10_year_treasury_yeild  10year_3month_yield_spread    vix  \\\n",
       "Date                                                                    \n",
       "1994-01-23                    5.75                        2.75  11.15   \n",
       "1994-01-30                    5.75                        2.72  11.09   \n",
       "1994-02-06                    5.75                        2.69   9.94   \n",
       "1994-02-13                    5.97                        2.64  15.25   \n",
       "1994-02-20                    5.97                        2.55  14.46   \n",
       "\n",
       "            us_china_exchange_rate  us_japan_exchange_rate  inflation_yoy  \\\n",
       "Date                                                                        \n",
       "1994-01-23                  8.7217                  111.24       2.450980   \n",
       "1994-01-30                  8.7257                  111.25       2.450980   \n",
       "1994-02-06                  8.7217                  109.45       2.450980   \n",
       "1994-02-13                  8.7228                  108.98       2.515723   \n",
       "1994-02-20                  8.7292                  107.67       2.515723   \n",
       "\n",
       "            gdp_growth_yoy    epu_all  pct_change_vol_lag   topic 1  \\\n",
       "Date                                                                  \n",
       "1994-01-23        3.430523  80.009804           -0.061554  0.041367   \n",
       "1994-01-30        3.430523  80.009804            0.135872  0.041367   \n",
       "1994-02-06        3.430523  80.009804           -0.095886  0.041367   \n",
       "1994-02-13        3.430523  94.592697            0.208341  0.233732   \n",
       "1994-02-20        3.430523  94.592697           -0.435118  0.233732   \n",
       "\n",
       "            consumption  foreign_exchange_rate  inflation  financial_market  \\\n",
       "Date                                                                          \n",
       "1994-01-23     0.356540               0.071715   0.404525          0.041951   \n",
       "1994-01-30     0.356540               0.071715   0.404525          0.041951   \n",
       "1994-02-06     0.356540               0.071715   0.404525          0.041951   \n",
       "1994-02-13     0.287235               0.056753   0.312348          0.050946   \n",
       "1994-02-20     0.287235               0.056753   0.312348          0.050946   \n",
       "\n",
       "             topic 6  sentiment_mc  sentiment_zstc  price_increase  \n",
       "Date                                                                \n",
       "1994-01-23  0.083903      3.265306        0.692368               0  \n",
       "1994-01-30  0.083903      3.265306        0.692368               1  \n",
       "1994-02-06  0.083903      3.265306        0.692368               0  \n",
       "1994-02-13  0.058986      2.780331        0.639252               1  \n",
       "1994-02-20  0.058986      2.780331        0.639252               0  "
      ]
     },
     "execution_count": 38,
     "metadata": {},
     "output_type": "execute_result"
    }
   ],
   "source": [
    "# Create an empty DataFrame\n",
    "df = pd.DataFrame()\n",
    "\n",
    "# Extract the 'Adj Close' column from the 'data' DataFrame and resample it to weekly frequency, taking the last value of each week.\n",
    "df['close'] = data['Adj Close'].resample('W').last()\n",
    "\n",
    "# Calculate the percentage change of the 'close' column to get weekly percentage changes in stock prices.\n",
    "df['pct_change_close'] = df['close'].pct_change()\n",
    "\n",
    "# Create a new column 'pct_change_close_lag' containing the previous week's percentage change values.\n",
    "df['pct_change_close_lag'] = df['pct_change_close'].shift()\n",
    "\n",
    "# Extract specific columns from 'data' DataFrame related to economic indicators, and resample them to weekly frequency, taking the last value of each week.\n",
    "df1 = data[\n",
    "    ['Volume', 'ffr', 'unemployment_rate', 'retail_sales', '10_year_treasury_yeild', '10year_3month_yield_spread',\n",
    "     'vix', 'us_china_exchange_rate', 'us_japan_exchange_rate', 'inflation_yoy', 'gdp_growth_yoy', 'epu_all']\n",
    "].resample('W').last()\n",
    "\n",
    "# Calculate the percentage change of the 'Volume' column to get weekly percentage changes in trading volume.\n",
    "df1['pct_change_vol_lag'] = df1['Volume'].pct_change()\n",
    "\n",
    "# Shift the 'df1' DataFrame by one week, aligning the economic indicators with the corresponding stock market data for prediction purposes.\n",
    "df1 = df1.shift()\n",
    "\n",
    "# Combine the 'df' DataFrame containing stock market data with the 'df1' DataFrame containing economic indicators data.\n",
    "df = pd.concat([df, df1], axis=1)\n",
    "\n",
    "# Extract specific columns from the 'data' DataFrame related to other topics, and resample them to weekly frequency, taking the last value of each week.\n",
    "df2 = data[['topic 1', 'consumption', 'foreign_exchange_rate', 'inflation', 'financial_market', 'topic 6',\n",
    "            'sentiment_mc', 'sentiment_zstc']].resample('W').last()\n",
    "\n",
    "# Shift the 'df2' DataFrame by one week, aligning the other topics data with the corresponding stock market data for prediction purposes.\n",
    "df2 = df2.shift()\n",
    "\n",
    "# Combine the 'df' DataFrame containing stock market and economic indicators data with the 'df2' DataFrame containing other topics data.\n",
    "df = pd.concat([df, df2], axis=1)\n",
    "\n",
    "# Create a new column 'price_increase' that is 1 if the weekly percentage change in stock prices is greater than or equal to 0, otherwise 0.\n",
    "df['price_increase'] = np.where(df['pct_change_close'] >= 0, 1, 0)\n",
    "\n",
    "# Drop the 'close', 'Volume', and 'pct_change_close' columns as they are no longer needed for prediction.\n",
    "df.drop(columns=['close', 'Volume', 'pct_change_close'], inplace=True)\n",
    "\n",
    "# Drop any rows with missing values (NaN) in the DataFrame.\n",
    "df.dropna(inplace=True)\n",
    "\n",
    "# Display the first few rows of the final DataFrame 'df'.\n",
    "df.head()\n"
   ]
  },
  {
   "cell_type": "markdown",
   "id": "9a5b512e-352b-4b91-970b-f0a8294cd734",
   "metadata": {},
   "source": [
    "The baseline for model performance in this new setting increases to 56% "
   ]
  },
  {
   "cell_type": "code",
   "execution_count": 39,
   "id": "c5ce7280-1e11-4c79-afb6-807980c9e1d0",
   "metadata": {},
   "outputs": [
    {
     "data": {
      "text/plain": [
       "price_increase\n",
       "1    0.564568\n",
       "0    0.435432\n",
       "Name: proportion, dtype: float64"
      ]
     },
     "execution_count": 39,
     "metadata": {},
     "output_type": "execute_result"
    }
   ],
   "source": [
    "df['price_increase'].value_counts(normalize=True)"
   ]
  },
  {
   "cell_type": "markdown",
   "id": "e307ecf2-e4c9-4794-9a11-55f82e8e2735",
   "metadata": {},
   "source": [
    "#### RNN"
   ]
  },
  {
   "cell_type": "code",
   "execution_count": 40,
   "id": "9a6c0e57-3f4d-4a87-9e17-b2150b266a4f",
   "metadata": {},
   "outputs": [],
   "source": [
    "train, test = train_test_split(\n",
    "    df,\n",
    "    shuffle=False, \n",
    "    test_size=0.1\n",
    ")"
   ]
  },
  {
   "cell_type": "code",
   "execution_count": 41,
   "id": "fbe898e0-c36d-4f50-b48c-a6ad59e8b061",
   "metadata": {},
   "outputs": [],
   "source": [
    "mm = MinMaxScaler()\n",
    "training_set_scaled = mm.fit_transform(train)\n",
    "test_set_scaled = mm.transform(test)\n",
    "\n",
    "time_steps = 5\n",
    "X_train, y_train = rnn_data_structure(training_set_scaled, timesteps=time_steps)\n",
    "X_test, y_test = rnn_data_structure(test_set_scaled, timesteps=time_steps)"
   ]
  },
  {
   "cell_type": "code",
   "execution_count": 42,
   "id": "9e941f60-32f7-4d6b-8c4b-795aba96239d",
   "metadata": {},
   "outputs": [
    {
     "name": "stdout",
     "output_type": "stream",
     "text": [
      "(1382, 5, 21)\n",
      "(1382,)\n",
      "(151, 5, 21)\n",
      "(151,)\n"
     ]
    }
   ],
   "source": [
    "print(X_train.shape)\n",
    "print(y_train.shape)\n",
    "print(X_test.shape)\n",
    "print(y_test.shape)"
   ]
  },
  {
   "cell_type": "code",
   "execution_count": 43,
   "id": "f4ceec13-dc4d-4638-ac71-d2efc1da630e",
   "metadata": {},
   "outputs": [],
   "source": [
    "model = Sequential()\n",
    "model.add(LSTM(128, return_sequences=True, input_shape=(time_steps, X_train.shape[-1])))\n",
    "model.add(LSTM(64, return_sequences=True))\n",
    "model.add(LSTM(64))\n",
    "model.add(Dense(32, activation='relu'))\n",
    "model.add(Dropout(0.2))\n",
    "model.add(Dense(1, activation='sigmoid'))\n",
    "\n",
    "model.compile(loss='bce', optimizer='rmsprop', metrics=['acc'])\n",
    "es = EarlyStopping(monitor='val_loss', patience=10, restore_best_weights=True)\n",
    "\n",
    "history = model.fit(\n",
    "    X_train,\n",
    "    y_train,\n",
    "    validation_data= (X_test, y_test),\n",
    "    epochs=100,\n",
    "    batch_size = 64,\n",
    "    callbacks = es, \n",
    "    verbose=0\n",
    ")"
   ]
  },
  {
   "cell_type": "code",
   "execution_count": 44,
   "id": "60d92318-667a-4ac0-a3d8-68687a3e8832",
   "metadata": {},
   "outputs": [
    {
     "data": {
      "image/png": "[encoded data removed]",
      "text/plain": [
       "<Figure size 1400x500 with 1 Axes>"
      ]
     },
     "metadata": {},
     "output_type": "display_data"
    }
   ],
   "source": [
    "plt.figure(figsize=(14, 5))\n",
    "plt.plot(history.history['loss'], c='navy', label='Train')\n",
    "plt.plot(history.history['val_loss'], c='skyblue', label='Val')\n",
    "plt.legend();"
   ]
  },
  {
   "cell_type": "code",
   "execution_count": 45,
   "id": "0ab273c4-8171-43b1-8bf6-decdb11d4e2a",
   "metadata": {},
   "outputs": [
    {
     "name": "stdout",
     "output_type": "stream",
     "text": [
      "5/5 [==============================] - 0s 2ms/step - loss: 0.6823 - acc: 0.5894\n"
     ]
    },
    {
     "data": {
      "text/plain": [
       "[0.6823108792304993, 0.5894039869308472]"
      ]
     },
     "execution_count": 45,
     "metadata": {},
     "output_type": "execute_result"
    }
   ],
   "source": [
    "model.evaluate(X_test, y_test)"
   ]
  },
  {
   "cell_type": "code",
   "execution_count": 46,
   "id": "8336f494-54bb-45bb-947c-bf57282d38a2",
   "metadata": {},
   "outputs": [
    {
     "name": "stdout",
     "output_type": "stream",
     "text": [
      "5/5 [==============================] - 1s 3ms/step\n"
     ]
    }
   ],
   "source": [
    "pred_test = model.predict(X_test)"
   ]
  },
  {
   "cell_type": "code",
   "execution_count": 47,
   "id": "c45a678c-c2b5-47ea-be2f-1f9ba0f658ff",
   "metadata": {},
   "outputs": [
    {
     "data": {
      "text/plain": [
       "(151,)"
      ]
     },
     "execution_count": 47,
     "metadata": {},
     "output_type": "execute_result"
    }
   ],
   "source": [
    "pred_test = pred_test.reshape(-1)\n",
    "pred_test.shape"
   ]
  },
  {
   "cell_type": "code",
   "execution_count": 48,
   "id": "3c3c0ffb-c62e-41fe-9f6b-9345ee2953bf",
   "metadata": {},
   "outputs": [
    {
     "name": "stdout",
     "output_type": "stream",
     "text": [
      "0.42353463\n",
      "0.666746\n"
     ]
    }
   ],
   "source": [
    "print(pred_test.min())\n",
    "print(pred_test.max())\n"
   ]
  },
  {
   "cell_type": "code",
   "execution_count": 49,
   "id": "41fabebf-8ba1-406b-b040-ad0b9bbc745c",
   "metadata": {},
   "outputs": [],
   "source": [
    "threshold = 0.5\n",
    "y_pred = np.where(pred_test >= threshold, 1, 0)\n"
   ]
  },
  {
   "cell_type": "code",
   "execution_count": 50,
   "id": "5fd5b2de-c813-409b-a8a8-f09d77e5e475",
   "metadata": {},
   "outputs": [
    {
     "name": "stdout",
     "output_type": "stream",
     "text": [
      "Confusion Matrix:\n",
      "[[31 39]\n",
      " [23 58]]\n"
     ]
    }
   ],
   "source": [
    "conf_matrix = confusion_matrix(y_test, y_pred)\n",
    "print(\"Confusion Matrix:\")\n",
    "print(conf_matrix)\n"
   ]
  },
  {
   "cell_type": "code",
   "execution_count": 51,
   "id": "f2b39614-bc59-4e6d-969f-16031c67988c",
   "metadata": {},
   "outputs": [
    {
     "name": "stdout",
     "output_type": "stream",
     "text": [
      "              precision    recall  f1-score   support\n",
      "\n",
      "         0.0       0.57      0.44      0.50        70\n",
      "         1.0       0.60      0.72      0.65        81\n",
      "\n",
      "    accuracy                           0.59       151\n",
      "   macro avg       0.59      0.58      0.58       151\n",
      "weighted avg       0.59      0.59      0.58       151\n",
      "\n"
     ]
    },
    {
     "data": {
      "image/png": "[encoded data removed]",
      "text/plain": [
       "<Figure size 640x480 with 2 Axes>"
      ]
     },
     "metadata": {},
     "output_type": "display_data"
    }
   ],
   "source": [
    "print(classification_report(y_test, y_pred))\n",
    "ConfusionMatrixDisplay.from_predictions(y_test, y_pred, cmap='Blues');"
   ]
  },
  {
   "cell_type": "markdown",
   "id": "c684a192-30cd-4347-ad97-a7721342f681",
   "metadata": {},
   "source": [
    "#### Machine learning algorithms"
   ]
  },
  {
   "cell_type": "code",
   "execution_count": 52,
   "id": "f9a463cd-636a-4468-aca2-6daed9a20158",
   "metadata": {},
   "outputs": [
    {
     "name": "stdout",
     "output_type": "stream",
     "text": [
      "(1386, 21) (155, 21)\n"
     ]
    }
   ],
   "source": [
    "X = df.drop(columns=['price_increase'])\n",
    "\n",
    "y = df['price_increase']\n",
    " \n",
    "X_train, X_test, y_train, y_test = train_test_split(\n",
    "    X, y, test_size=0.1, shuffle=False)\n",
    "\n",
    "sc = StandardScaler()\n",
    "X_train = sc.fit_transform(X_train)\n",
    "X_test = sc.transform(X_test)\n",
    "\n",
    "print(X_train.shape, X_test.shape)"
   ]
  },
  {
   "cell_type": "code",
   "execution_count": 53,
   "id": "4e99770e-bd76-4c78-8d82-c9c97db89332",
   "metadata": {},
   "outputs": [
    {
     "name": "stdout",
     "output_type": "stream",
     "text": [
      "LogisticRegression(max_iter=5000, solver='liblinear') successfully completed.\n",
      "RandomForestClassifier(random_state=42) successfully completed.\n",
      "SVC(probability=True) successfully completed.\n",
      "GradientBoostingClassifier(random_state=42) successfully completed.\n",
      "CPU times: user 1min 58s, sys: 489 ms, total: 1min 58s\n",
      "Wall time: 1min 59s\n"
     ]
    }
   ],
   "source": [
    "%%time \n",
    "models = {}\n",
    "\n",
    "for key, dic in model_dict.items():\n",
    "\n",
    "    model = random_search_modeler(dic['mod_instant'], \n",
    "                                    cross_validation=kf, \n",
    "                                    model_params=dic['mod_param']\n",
    "                                 )  \n",
    "    model.fit(X_train, y_train)\n",
    "    print(f\"{dic['mod_instant']} successfully completed.\")\n",
    "    \n",
    "    models[key] = model"
   ]
  },
  {
   "cell_type": "code",
   "execution_count": 54,
   "id": "49605a43-2b8a-4fa9-8094-92d94f670243",
   "metadata": {},
   "outputs": [
    {
     "name": "stdout",
     "output_type": "stream",
     "text": [
      "logreg model - Train Accuracy: 0.5887445887445888\n",
      "logreg model - Validation Accuracy: 0.6129032258064516\n",
      "logreg model - Validation AUC: 0.6222334004024146\n",
      "\n",
      "\n",
      "              precision    recall  f1-score   support\n",
      "\n",
      "           0       0.60      0.48      0.53        71\n",
      "           1       0.62      0.73      0.67        84\n",
      "\n",
      "    accuracy                           0.61       155\n",
      "   macro avg       0.61      0.60      0.60       155\n",
      "weighted avg       0.61      0.61      0.61       155\n",
      "\n",
      "\n",
      "\n",
      "rf model - Train Accuracy: 0.6060606060606061\n",
      "rf model - Validation Accuracy: 0.5548387096774193\n",
      "rf model - Validation AUC: 0.5352112676056338\n",
      "\n",
      "\n",
      "              precision    recall  f1-score   support\n",
      "\n",
      "           0       0.62      0.07      0.13        71\n",
      "           1       0.55      0.96      0.70        84\n",
      "\n",
      "    accuracy                           0.55       155\n",
      "   macro avg       0.59      0.52      0.41       155\n",
      "weighted avg       0.58      0.55      0.44       155\n",
      "\n",
      "\n",
      "\n",
      "svc model - Train Accuracy: 0.6428571428571429\n",
      "svc model - Validation Accuracy: 0.5806451612903226\n",
      "svc model - Validation AUC: 0.5686619718309859\n",
      "\n",
      "\n",
      "              precision    recall  f1-score   support\n",
      "\n",
      "           0       0.57      0.35      0.43        71\n",
      "           1       0.59      0.77      0.67        84\n",
      "\n",
      "    accuracy                           0.58       155\n",
      "   macro avg       0.58      0.56      0.55       155\n",
      "weighted avg       0.58      0.58      0.56       155\n",
      "\n",
      "\n",
      "\n",
      "gb model - Train Accuracy: 0.6255411255411255\n",
      "gb model - Validation Accuracy: 0.5483870967741935\n",
      "gb model - Validation AUC: 0.545439302481556\n",
      "\n",
      "\n",
      "              precision    recall  f1-score   support\n",
      "\n",
      "           0       0.51      0.55      0.53        71\n",
      "           1       0.59      0.55      0.57        84\n",
      "\n",
      "    accuracy                           0.55       155\n",
      "   macro avg       0.55      0.55      0.55       155\n",
      "weighted avg       0.55      0.55      0.55       155\n",
      "\n",
      "\n",
      "\n"
     ]
    }
   ],
   "source": [
    "for model in ['logreg', 'rf', 'svc', 'gb']:\n",
    "\n",
    "    print(f\"{model} model - Train Accuracy:\", models[model].score(X_train, y_train))\n",
    "    print(f\"{model} model - Validation Accuracy:\", models[model].score(X_test, y_test))\n",
    "    print(f\"{model} model - Validation AUC:\", roc_auc_score(y_test, models[model].predict_proba(X_test)[:, 1]))\n",
    "    print('\\n')\n",
    "    print(classification_report(y_test, models[model].predict(X_test)))\n",
    "    print('\\n')"
   ]
  },
  {
   "cell_type": "markdown",
   "id": "801eeefe-a2bc-4860-abfe-950fca1d3ad7",
   "metadata": {},
   "source": [
    "### What is the impact of FOMC\n",
    "In this section, the data created from the FOMC meetings are removed from the sample, to analyze their role in predicting changes in stock market prices. "
   ]
  },
  {
   "cell_type": "markdown",
   "id": "67627717-f78c-424e-81af-698b11413950",
   "metadata": {},
   "source": [
    "#### RNN"
   ]
  },
  {
   "cell_type": "code",
   "execution_count": 55,
   "id": "2dc90080-ca37-4947-a257-54a8f96ff6e6",
   "metadata": {},
   "outputs": [
    {
     "name": "stdout",
     "output_type": "stream",
     "text": [
      "5/5 [==============================] - 0s 2ms/step - loss: 0.6763 - acc: 0.5894\n",
      "5/5 [==============================] - 0s 2ms/step\n",
      "0.4010488\n",
      "0.670106\n",
      "              precision    recall  f1-score   support\n",
      "\n",
      "         0.0       0.58      0.43      0.49        70\n",
      "         1.0       0.60      0.73      0.66        81\n",
      "\n",
      "    accuracy                           0.59       151\n",
      "   macro avg       0.59      0.58      0.57       151\n",
      "weighted avg       0.59      0.59      0.58       151\n",
      "\n"
     ]
    },
    {
     "data": {
      "image/png": "[encoded data removed]",
      "text/plain": [
       "<Figure size 640x480 with 2 Axes>"
      ]
     },
     "metadata": {},
     "output_type": "display_data"
    }
   ],
   "source": [
    "train, test = train_test_split(\n",
    "    df.drop(columns=['topic 1',\n",
    "       'consumption', 'foreign_exchange_rate', 'inflation', 'financial_market',\n",
    "       'topic 6', 'sentiment_mc', 'sentiment_zstc']),\n",
    "    shuffle=False, \n",
    "    test_size=0.1\n",
    ")\n",
    "\n",
    "mm = MinMaxScaler()\n",
    "training_set_scaled = mm.fit_transform(train)\n",
    "test_set_scaled = mm.transform(test)\n",
    "\n",
    "time_steps = 5\n",
    "X_train, y_train = rnn_data_structure(training_set_scaled, timesteps=time_steps)\n",
    "\n",
    "X_test, y_test = rnn_data_structure(test_set_scaled, timesteps=time_steps)\n",
    "\n",
    "model = Sequential()\n",
    "model.add(LSTM(128, return_sequences=True, input_shape=(time_steps, X_train.shape[-1])))\n",
    "model.add(LSTM(64, return_sequences=True))\n",
    "model.add(LSTM(64))\n",
    "model.add(Dense(32, activation='relu'))\n",
    "model.add(Dropout(0.2))\n",
    "model.add(Dense(1, activation='sigmoid'))\n",
    "\n",
    "model.compile(loss='bce', optimizer='rmsprop', metrics=['acc'])\n",
    "es = EarlyStopping(monitor='val_loss', patience=10, restore_best_weights=True)\n",
    "\n",
    "history = model.fit(\n",
    "    X_train,\n",
    "    y_train,\n",
    "    validation_data= (X_test, y_test),\n",
    "    epochs=100,\n",
    "    batch_size = 64,\n",
    "    callbacks = es,\n",
    "    verbose=0\n",
    ")\n",
    "model.evaluate(X_test, y_test)\n",
    "pred_test = model.predict(X_test)\n",
    "pred_test = pred_test.reshape(-1)\n",
    "pred_test.shape\n",
    "threshold = 0.5\n",
    "y_pred = np.where(pred_test >= threshold, 1, 0)\n",
    "print(pred_test.min())\n",
    "print(pred_test.max())\n",
    "print(classification_report(y_test, y_pred))\n",
    "ConfusionMatrixDisplay.from_predictions(y_test, y_pred, cmap='Blues');"
   ]
  },
  {
   "cell_type": "markdown",
   "id": "a78fcb04-7f05-4182-a037-ace6df112255",
   "metadata": {},
   "source": [
    "# Machine learning methods"
   ]
  },
  {
   "cell_type": "code",
   "execution_count": 56,
   "id": "92ae0c4a-7c71-42e6-8be2-a1e6850a5649",
   "metadata": {},
   "outputs": [
    {
     "name": "stdout",
     "output_type": "stream",
     "text": [
      "(1386, 13) (155, 13)\n"
     ]
    }
   ],
   "source": [
    "X = df.drop(columns=['price_increase', 'topic 1',\n",
    "       'consumption', 'foreign_exchange_rate', 'inflation', 'financial_market',\n",
    "       'topic 6', 'sentiment_mc', 'sentiment_zstc'])\n",
    "\n",
    "y = df['price_increase']\n",
    " \n",
    "X_train, X_test, y_train, y_test = train_test_split(\n",
    "    X, y, test_size=0.1, shuffle=False)\n",
    "\n",
    "sc = StandardScaler()\n",
    "X_train = sc.fit_transform(X_train)\n",
    "X_test = sc.transform(X_test)\n",
    "\n",
    "print(X_train.shape, X_test.shape)"
   ]
  },
  {
   "cell_type": "code",
   "execution_count": 57,
   "id": "52d3d622-e426-4253-bfae-cf9f56113b2a",
   "metadata": {},
   "outputs": [
    {
     "name": "stdout",
     "output_type": "stream",
     "text": [
      "LogisticRegression(max_iter=5000, solver='liblinear') successfully completed.\n",
      "RandomForestClassifier(random_state=42) successfully completed.\n",
      "SVC(probability=True) successfully completed.\n",
      "GradientBoostingClassifier(random_state=42) successfully completed.\n"
     ]
    }
   ],
   "source": [
    "models = {}\n",
    "\n",
    "for key, dic in model_dict.items():\n",
    "    model = random_search_modeler(dic['mod_instant'], \n",
    "                                    cross_validation=kf, \n",
    "                                    model_params=dic['mod_param']\n",
    "                                 )\n",
    "    \n",
    "    model.fit(X_train, y_train)\n",
    "    print(f\"{dic['mod_instant']} successfully completed.\")\n",
    "    \n",
    "    models[key] = model"
   ]
  },
  {
   "cell_type": "code",
   "execution_count": 58,
   "id": "1b0a203f-1e36-4d02-9201-817a4a9d99cb",
   "metadata": {},
   "outputs": [
    {
     "name": "stdout",
     "output_type": "stream",
     "text": [
      "logreg model - Train Accuracy: 0.5800865800865801\n",
      "logreg model - Validation Accuracy: 0.6\n",
      "logreg model - Validation AUC: 0.6208920187793427\n",
      "\n",
      "\n",
      "              precision    recall  f1-score   support\n",
      "\n",
      "           0       0.56      0.63      0.59        71\n",
      "           1       0.65      0.57      0.61        84\n",
      "\n",
      "    accuracy                           0.60       155\n",
      "   macro avg       0.60      0.60      0.60       155\n",
      "weighted avg       0.61      0.60      0.60       155\n",
      "\n",
      "\n",
      "\n",
      "rf model - Train Accuracy: 0.6046176046176046\n",
      "rf model - Validation Accuracy: 0.535483870967742\n",
      "rf model - Validation AUC: 0.567739771965124\n",
      "\n",
      "\n",
      "              precision    recall  f1-score   support\n",
      "\n",
      "           0       0.49      0.34      0.40        71\n",
      "           1       0.56      0.70      0.62        84\n",
      "\n",
      "    accuracy                           0.54       155\n",
      "   macro avg       0.52      0.52      0.51       155\n",
      "weighted avg       0.53      0.54      0.52       155\n",
      "\n",
      "\n",
      "\n",
      "svc model - Train Accuracy: 0.5670995670995671\n",
      "svc model - Validation Accuracy: 0.5419354838709678\n",
      "svc model - Validation AUC: 0.6167002012072434\n",
      "\n",
      "\n",
      "              precision    recall  f1-score   support\n",
      "\n",
      "           0       0.00      0.00      0.00        71\n",
      "           1       0.54      1.00      0.70        84\n",
      "\n",
      "    accuracy                           0.54       155\n",
      "   macro avg       0.27      0.50      0.35       155\n",
      "weighted avg       0.29      0.54      0.38       155\n",
      "\n",
      "\n",
      "\n",
      "gb model - Train Accuracy: 0.613997113997114\n",
      "gb model - Validation Accuracy: 0.5548387096774193\n",
      "gb model - Validation AUC: 0.5547451374916164\n",
      "\n",
      "\n",
      "              precision    recall  f1-score   support\n",
      "\n",
      "           0       0.51      0.69      0.59        71\n",
      "           1       0.63      0.44      0.52        84\n",
      "\n",
      "    accuracy                           0.55       155\n",
      "   macro avg       0.57      0.57      0.55       155\n",
      "weighted avg       0.57      0.55      0.55       155\n",
      "\n",
      "\n",
      "\n"
     ]
    }
   ],
   "source": [
    "for model in ['logreg', 'rf', 'svc', 'gb']:\n",
    "\n",
    "    print(f\"{model} model - Train Accuracy:\", models[model].score(X_train, y_train))\n",
    "    print(f\"{model} model - Validation Accuracy:\", models[model].score(X_test, y_test))\n",
    "    print(f\"{model} model - Validation AUC:\", roc_auc_score(y_test, models[model].predict_proba(X_test)[:, 1]))\n",
    "    print('\\n')\n",
    "    print(classification_report(y_test, models[model].predict(X_test)))\n",
    "    print('\\n')"
   ]
  },
  {
   "cell_type": "markdown",
   "id": "d0af2b6f-9ac1-4b78-a6ba-2c95f3c7d4dc",
   "metadata": {},
   "source": [
    "Upon removing this specific set of variables, the overall accuracy of all models experiences a marginal decline of approximately 1 percent. Though the decrease in performance is small, it is worth noting that the models had exhibited only minimal improvement over the baseline initially."
   ]
  }
 ],
 "metadata": {
  "kernelspec": {
   "display_name": "Python 3 (ipykernel)",
   "language": "python",
   "name": "python3"
  },
  "language_info": {
   "codemirror_mode": {
    "name": "ipython",
    "version": 3
   },
   "file_extension": ".py",
   "mimetype": "text/x-python",
   "name": "python",
   "nbconvert_exporter": "python",
   "pygments_lexer": "ipython3",
   "version": "3.10.9"
  }
 },
 "nbformat": 4,
 "nbformat_minor": 5
}
